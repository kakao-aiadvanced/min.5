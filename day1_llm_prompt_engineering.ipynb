{
 "cells": [
  {
   "cell_type": "markdown",
   "source": [
    "## 실습 자료\n",
    "\n",
    "[실습자료 colab](https://colab.research.google.com/drive/1wUbuuPOrPJ9xKx9GTeb6txruAyVrhgE9?usp=drive_link#scrollTo=4au3DIii3Ap2)\n",
    "\n",
    "\n",
    "## 추가 공부 할 부분.\n",
    "- Song Han’s Quantization Slides (part 1)\n",
    "https://www.dropbox.com/scl/fi/eos92o2fgys6gk0gizogl/lec05.pdf?rlkey=2hohvi8jcvjw3f8m8vugfa2mz&e=1&dl=0\n",
    "- Song Han’s Quantization Slides (part 2)\n",
    "https://www.dropbox.com/scl/fi/1mo0umu0qtq7uxap2l5m3/lec06.pdf?rlkey=bdl2mgusgajddjuvjxb0fot36&e=1&dl=0\n",
    "- Videos\n",
    "https://www.youtube.com/watch?v=TSc_BibWRhM&list=PL80kAHvQbh-pT4lCkDT53zT8DKmhE0idB&index=9\n",
    "- promptbench\n",
    "- prompt auto generator \n",
    "- \n"
   ],
   "metadata": {
    "collapsed": false
   },
   "id": "edf107b8411c36f1"
  },
  {
   "cell_type": "code",
   "outputs": [],
   "source": [
    "OPENAI_API_KEY=%env OPENAI_API_KEY"
   ],
   "metadata": {
    "collapsed": false,
    "ExecuteTime": {
     "end_time": "2024-07-29T14:36:14.433823Z",
     "start_time": "2024-07-29T14:36:14.427732Z"
    }
   },
   "id": "bd6a9f3ae6a95065",
   "execution_count": 1
  },
  {
   "cell_type": "code",
   "outputs": [
    {
     "name": "stdout",
     "output_type": "stream",
     "text": [
      "\u001B[?25l⠙ \u001B[?25h\u001B[?25l\u001B[2K\u001B[1G⠹ \u001B[?25h\u001B[?25l\u001B[2K\u001B[1G⠸ \u001B[?25h\u001B[?25l\u001B[2K\u001B[1G⠼ \u001B[?25h\u001B[?25l\u001B[2K\u001B[1G⠴ \u001B[?25h\u001B[?25l\u001B[2K\u001B[1G⠦ \u001B[?25h\u001B[?25l\u001B[2K\u001B[1G⠧ \u001B[?25h\u001B[?25l\u001B[2K\u001B[1G⠇ \u001B[?25h\u001B[?25l\u001B[2K\u001B[1G⠏ \u001B[?25h\u001B[?25l\u001B[2K\u001B[1G⠋ \u001B[?25h\u001B[?25l\u001B[2K\u001B[1G⠙ \u001B[?25h\u001B[?25l\u001B[2K\u001B[1G⠹ \u001B[?25h\u001B[?25l\u001B[2K\u001B[1G⠸ \u001B[?25h\u001B[?25l\u001B[2K\u001B[1G⠼ \u001B[?25h\u001B[?25l\u001B[2K\u001B[1G⠴ \u001B[?25h\u001B[?25l\u001B[2K\u001B[1G⠦ \u001B[?25h\u001B[?25l\u001B[2K\u001B[1G⠧ \u001B[?25h\u001B[?25l\u001B[2K\u001B[1G⠇ \u001B[?25h\u001B[?25l\u001B[2K\u001B[1G⠏ \u001B[?25h\u001B[?25l\u001B[2K\u001B[1G⠋ \u001B[?25h\u001B[?25l\u001B[2K\u001B[1G⠙ \u001B[?25h\u001B[?25l\u001B[2K\u001B[1G⠹ \u001B[?25h\u001B[?25l\u001B[2K\u001B[1G⠸ \u001B[?25h\u001B[?25l\u001B[2K\u001B[1G⠼ \u001B[?25h\u001B[?25l\u001B[2K\u001B[1G⠴ \u001B[?25h\u001B[?25l\u001B[2K\u001B[1G⠦ \u001B[?25h\u001B[?25l\u001B[2K\u001B[1G⠧ \u001B[?25h\u001B[?25l\u001B[2K\u001B[1G⠇ \u001B[?25h\u001B[?25l\u001B[2K\u001B[1G⠏ \u001B[?25h\u001B[?25l\u001B[2K\u001B[1G⠋ \u001B[?25h\u001B[?25l\u001B[2K\u001B[1G⠙ \u001B[?25h\u001B[?25l\u001B[2K\u001B[1G⠹ \u001B[?25h\u001B[?25l\u001B[2K\u001B[1G⠸ \u001B[?25h\u001B[?25l\u001B[2K\u001B[1G⠸ \u001B[?25h\u001B[?25l\u001B[2K\u001B[1G⠴ \u001B[?25h\u001B[?25l\u001B[2K\u001B[1G⠦ \u001B[?25h\u001B[?25l\u001B[2K\u001B[1G⠧ \u001B[?25h\u001B[?25l\u001B[2K\u001B[1G⠇ \u001B[?25h\u001B[?25l\u001B[2K\u001B[1G⠏ \u001B[?25h\u001B[?25l\u001B[2K\u001B[1G⠋ \u001B[?25h\u001B[?25l\u001B[2K\u001B[1G⠙ \u001B[?25h\u001B[?25l\u001B[2K\u001B[1G⠹ \u001B[?25h\u001B[?25l\u001B[2K\u001B[1G⠸ \u001B[?25h\u001B[?25l\u001B[2K\u001B[1G⠼ \u001B[?25h\u001B[?25l\u001B[2K\u001B[1G⠴ \u001B[?25h\u001B[?25l\u001B[2K\u001B[1G⠦ \u001B[?25h\u001B[?25l\u001B[2K\u001B[1G⠧ \u001B[?25h\u001B[?25l\u001B[2K\u001B[1G⠇ \u001B[?25h\u001B[?25l\u001B[2K\u001B[1G⠏ \u001B[?25h\u001B[?25l\u001B[2K\u001B[1G⠋ \u001B[?25h\u001B[?25l\u001B[2K\u001B[1G⠙ \u001B[?25h\u001B[?25l\u001B[2K\u001B[1G⠹ \u001B[?25h\u001B[?25l\u001B[2K\u001B[1G⠸ \u001B[?25h\u001B[?25l\u001B[2K\u001B[1G⠼ \u001B[?25h\u001B[?25l\u001B[2K\u001B[1G⠴ \u001B[?25h\u001B[?25l\u001B[2K\u001B[1G⠦ \u001B[?25h\u001B[?25l\u001B[2K\u001B[1G⠧ \u001B[?25h\u001B[?25l\u001B[2K\u001B[1G⠇ \u001B[?25h\u001B[?25l\u001B[2K\u001B[1G⠏ \u001B[?25h\u001B[?25l\u001B[2K\u001B[1G⠋ \u001B[?25h\u001B[?25l\u001B[2K\u001B[1G⠙ \u001B[?25h\u001B[?25l\u001B[2K\u001B[1G⠹ \u001B[?25h\u001B[?25l\u001B[2K\u001B[1G⠸ \u001B[?25h\u001B[?25l\u001B[2K\u001B[1G⠼ \u001B[?25h\u001B[?25l\u001B[2K\u001B[1G⠴ \u001B[?25h\u001B[?25l\u001B[2K\u001B[1G⠦ \u001B[?25h\u001B[?25l\u001B[2K\u001B[1G⠧ \u001B[?25h\u001B[?25l\u001B[2K\u001B[1G⠇ \u001B[?25h\u001B[?25l\u001B[2K\u001B[1G⠏ \u001B[?25h\u001B[?25l\u001B[2K\u001B[1G⠏ \u001B[?25h\u001B[?25l\u001B[2K\u001B[1G⠋ \u001B[?25h\u001B[?25l\u001B[2K\u001B[1G⠹ \u001B[?25h\u001B[?25l\u001B[2K\u001B[1G⠹ \u001B[?25h\u001B[?25l\u001B[2K\u001B[1G⠼ \u001B[?25h\u001B[?25l\u001B[2K\u001B[1G⠴ \u001B[?25h\u001B[?25l\u001B[2K\u001B[1G⠦ \u001B[?25h\u001B[?25l\u001B[2K\u001B[1G⠧ \u001B[?25h\u001B[?25l\u001B[2K\u001B[1G⠧ \u001B[?25h\u001B[?25l\u001B[2K\u001B[1G⠏ \u001B[?25h\u001B[?25l\u001B[2K\u001B[1G⠏ \u001B[?25h\u001B[?25l\u001B[2K\u001B[1G⠙ \u001B[?25h\u001B[?25l\u001B[2K\u001B[1G⠹ \u001B[?25h\u001B[?25l\u001B[2K\u001B[1G⠸ \u001B[?25h\u001B[?25l\u001B[?25l\u001B[2K\u001B[1G\u001B[?25h\u001B[2K\u001B[1G\u001B[?25h\u001B[?25l\u001B[?25h\u001B[?2004h>>> \u001B[38;5;245mSend a message (/? for help)\u001B[28D\u001B[0m\u001B[K\r\n",
      "Use Ctrl + d or /bye to exit.\r\n",
      ">>> \u001B[38;5;245mSend a message (/? for help)\u001B[28D\u001B[0m\u001B[K\r\n",
      ">>> \u001B[38;5;245mSend a message (/? for help)\u001B[28D\u001B[0m"
     ]
    }
   ],
   "source": [
    "## ollama model download & load on local\n",
    "! ollama run llama3\n"
   ],
   "metadata": {
    "collapsed": true,
    "ExecuteTime": {
     "end_time": "2024-07-29T14:36:38.061391Z",
     "start_time": "2024-07-29T14:36:14.447545Z"
    }
   },
   "id": "initial_id",
   "execution_count": 2
  },
  {
   "cell_type": "code",
   "outputs": [
    {
     "name": "stdout",
     "output_type": "stream",
     "text": [
      "\u001B[?25lpulling manifest ⠋ \u001B[?25h\u001B[?25l\u001B[2K\u001B[1Gpulling manifest ⠙ \u001B[?25h\u001B[?25l\u001B[2K\u001B[1Gpulling manifest ⠹ \u001B[?25h\u001B[?25l\u001B[2K\u001B[1Gpulling manifest ⠸ \u001B[?25h\u001B[?25l\u001B[2K\u001B[1Gpulling manifest ⠼ \u001B[?25h\u001B[?25l\u001B[2K\u001B[1Gpulling manifest ⠴ \u001B[?25h\u001B[?25l\u001B[2K\u001B[1Gpulling manifest ⠦ \u001B[?25h\u001B[?25l\u001B[2K\u001B[1Gpulling manifest ⠧ \u001B[?25h\u001B[?25l\u001B[2K\u001B[1Gpulling manifest ⠇ \u001B[?25h\u001B[?25l\u001B[2K\u001B[1Gpulling manifest ⠏ \u001B[?25h\u001B[?25l\u001B[2K\u001B[1Gpulling manifest ⠋ \u001B[?25h\u001B[?25l\u001B[2K\u001B[1Gpulling manifest ⠙ \u001B[?25h\u001B[?25l\u001B[2K\u001B[1Gpulling manifest ⠹ \u001B[?25h\u001B[?25l\u001B[2K\u001B[1Gpulling manifest \r\n",
      "pulling 6a0746a1ec1a... 100% ▕████████████████▏ 4.7 GB                         \r\n",
      "pulling 4fa551d4f938... 100% ▕████████████████▏  12 KB                         \r\n",
      "pulling 8ab4849b038c... 100% ▕████████████████▏  254 B                         \r\n",
      "pulling 577073ffcc6c... 100% ▕████████████████▏  110 B                         \r\n",
      "pulling 3f8eb4da87fa... 100% ▕████████████████▏  485 B                         \r\n",
      "verifying sha256 digest \r\n",
      "writing manifest \r\n",
      "removing any unused layers \r\n",
      "success \u001B[?25h\r\n"
     ]
    }
   ],
   "source": [
    "!ollama pull llama3"
   ],
   "metadata": {
    "collapsed": false,
    "ExecuteTime": {
     "end_time": "2024-07-29T14:36:39.587372Z",
     "start_time": "2024-07-29T14:36:38.066344Z"
    }
   },
   "id": "e4342c68d92101d0",
   "execution_count": 3
  },
  {
   "cell_type": "code",
   "outputs": [
    {
     "name": "stdout",
     "output_type": "stream",
     "text": [
      "{\"model\":\"llama3\",\"created_at\":\"2024-07-29T14:36:40.002686Z\",\"message\":{\"role\":\"assistant\",\"content\":\"The\"},\"done\":false}\r\n",
      "{\"model\":\"llama3\",\"created_at\":\"2024-07-29T14:36:40.025625Z\",\"message\":{\"role\":\"assistant\",\"content\":\" sky\"},\"done\":false}\r\n",
      "{\"model\":\"llama3\",\"created_at\":\"2024-07-29T14:36:40.049201Z\",\"message\":{\"role\":\"assistant\",\"content\":\" appears\"},\"done\":false}\r\n",
      "{\"model\":\"llama3\",\"created_at\":\"2024-07-29T14:36:40.071401Z\",\"message\":{\"role\":\"assistant\",\"content\":\" blue\"},\"done\":false}\r\n",
      "{\"model\":\"llama3\",\"created_at\":\"2024-07-29T14:36:40.094385Z\",\"message\":{\"role\":\"assistant\",\"content\":\" because\"},\"done\":false}\r\n",
      "{\"model\":\"llama3\",\"created_at\":\"2024-07-29T14:36:40.117964Z\",\"message\":{\"role\":\"assistant\",\"content\":\" of\"},\"done\":false}\r\n",
      "{\"model\":\"llama3\",\"created_at\":\"2024-07-29T14:36:40.140464Z\",\"message\":{\"role\":\"assistant\",\"content\":\" a\"},\"done\":false}\r\n",
      "{\"model\":\"llama3\",\"created_at\":\"2024-07-29T14:36:40.164403Z\",\"message\":{\"role\":\"assistant\",\"content\":\" phenomenon\"},\"done\":false}\r\n",
      "{\"model\":\"llama3\",\"created_at\":\"2024-07-29T14:36:40.188074Z\",\"message\":{\"role\":\"assistant\",\"content\":\" called\"},\"done\":false}\r\n",
      "{\"model\":\"llama3\",\"created_at\":\"2024-07-29T14:36:40.211207Z\",\"message\":{\"role\":\"assistant\",\"content\":\" Ray\"},\"done\":false}\r\n",
      "{\"model\":\"llama3\",\"created_at\":\"2024-07-29T14:36:40.234857Z\",\"message\":{\"role\":\"assistant\",\"content\":\"leigh\"},\"done\":false}\r\n",
      "{\"model\":\"llama3\",\"created_at\":\"2024-07-29T14:36:40.258859Z\",\"message\":{\"role\":\"assistant\",\"content\":\" scattering\"},\"done\":false}\r\n",
      "{\"model\":\"llama3\",\"created_at\":\"2024-07-29T14:36:40.281945Z\",\"message\":{\"role\":\"assistant\",\"content\":\",\"},\"done\":false}\r\n",
      "{\"model\":\"llama3\",\"created_at\":\"2024-07-29T14:36:40.305351Z\",\"message\":{\"role\":\"assistant\",\"content\":\" named\"},\"done\":false}\r\n",
      "{\"model\":\"llama3\",\"created_at\":\"2024-07-29T14:36:40.328447Z\",\"message\":{\"role\":\"assistant\",\"content\":\" after\"},\"done\":false}\r\n",
      "{\"model\":\"llama3\",\"created_at\":\"2024-07-29T14:36:40.352378Z\",\"message\":{\"role\":\"assistant\",\"content\":\" the\"},\"done\":false}\r\n",
      "{\"model\":\"llama3\",\"created_at\":\"2024-07-29T14:36:40.374962Z\",\"message\":{\"role\":\"assistant\",\"content\":\" British\"},\"done\":false}\r\n",
      "{\"model\":\"llama3\",\"created_at\":\"2024-07-29T14:36:40.397821Z\",\"message\":{\"role\":\"assistant\",\"content\":\" physicist\"},\"done\":false}\r\n",
      "{\"model\":\"llama3\",\"created_at\":\"2024-07-29T14:36:40.421301Z\",\"message\":{\"role\":\"assistant\",\"content\":\" Lord\"},\"done\":false}\r\n",
      "{\"model\":\"llama3\",\"created_at\":\"2024-07-29T14:36:40.444244Z\",\"message\":{\"role\":\"assistant\",\"content\":\" Ray\"},\"done\":false}\r\n",
      "{\"model\":\"llama3\",\"created_at\":\"2024-07-29T14:36:40.467882Z\",\"message\":{\"role\":\"assistant\",\"content\":\"leigh\"},\"done\":false}\r\n",
      "{\"model\":\"llama3\",\"created_at\":\"2024-07-29T14:36:40.49127Z\",\"message\":{\"role\":\"assistant\",\"content\":\".\"},\"done\":false}\r\n",
      "{\"model\":\"llama3\",\"created_at\":\"2024-07-29T14:36:40.514673Z\",\"message\":{\"role\":\"assistant\",\"content\":\" He\"},\"done\":false}\r\n",
      "{\"model\":\"llama3\",\"created_at\":\"2024-07-29T14:36:40.537369Z\",\"message\":{\"role\":\"assistant\",\"content\":\" discovered\"},\"done\":false}\r\n",
      "{\"model\":\"llama3\",\"created_at\":\"2024-07-29T14:36:40.559895Z\",\"message\":{\"role\":\"assistant\",\"content\":\" that\"},\"done\":false}\r\n",
      "{\"model\":\"llama3\",\"created_at\":\"2024-07-29T14:36:40.583439Z\",\"message\":{\"role\":\"assistant\",\"content\":\" when\"},\"done\":false}\r\n",
      "{\"model\":\"llama3\",\"created_at\":\"2024-07-29T14:36:40.606853Z\",\"message\":{\"role\":\"assistant\",\"content\":\" sunlight\"},\"done\":false}\r\n",
      "{\"model\":\"llama3\",\"created_at\":\"2024-07-29T14:36:40.629574Z\",\"message\":{\"role\":\"assistant\",\"content\":\" enters\"},\"done\":false}\r\n",
      "{\"model\":\"llama3\",\"created_at\":\"2024-07-29T14:36:40.653387Z\",\"message\":{\"role\":\"assistant\",\"content\":\" Earth\"},\"done\":false}\r\n",
      "{\"model\":\"llama3\",\"created_at\":\"2024-07-29T14:36:40.676932Z\",\"message\":{\"role\":\"assistant\",\"content\":\"'s\"},\"done\":false}\r\n",
      "{\"model\":\"llama3\",\"created_at\":\"2024-07-29T14:36:40.700606Z\",\"message\":{\"role\":\"assistant\",\"content\":\" atmosphere\"},\"done\":false}\r\n",
      "{\"model\":\"llama3\",\"created_at\":\"2024-07-29T14:36:40.723507Z\",\"message\":{\"role\":\"assistant\",\"content\":\",\"},\"done\":false}\r\n",
      "{\"model\":\"llama3\",\"created_at\":\"2024-07-29T14:36:40.746457Z\",\"message\":{\"role\":\"assistant\",\"content\":\" it\"},\"done\":false}\r\n",
      "{\"model\":\"llama3\",\"created_at\":\"2024-07-29T14:36:40.769436Z\",\"message\":{\"role\":\"assistant\",\"content\":\" encounters\"},\"done\":false}\r\n",
      "{\"model\":\"llama3\",\"created_at\":\"2024-07-29T14:36:40.792051Z\",\"message\":{\"role\":\"assistant\",\"content\":\" tiny\"},\"done\":false}\r\n",
      "{\"model\":\"llama3\",\"created_at\":\"2024-07-29T14:36:40.814843Z\",\"message\":{\"role\":\"assistant\",\"content\":\" molecules\"},\"done\":false}\r\n",
      "{\"model\":\"llama3\",\"created_at\":\"2024-07-29T14:36:40.837467Z\",\"message\":{\"role\":\"assistant\",\"content\":\" of\"},\"done\":false}\r\n",
      "{\"model\":\"llama3\",\"created_at\":\"2024-07-29T14:36:40.860088Z\",\"message\":{\"role\":\"assistant\",\"content\":\" gases\"},\"done\":false}\r\n",
      "{\"model\":\"llama3\",\"created_at\":\"2024-07-29T14:36:40.883642Z\",\"message\":{\"role\":\"assistant\",\"content\":\" like\"},\"done\":false}\r\n",
      "{\"model\":\"llama3\",\"created_at\":\"2024-07-29T14:36:40.907322Z\",\"message\":{\"role\":\"assistant\",\"content\":\" nitrogen\"},\"done\":false}\r\n",
      "{\"model\":\"llama3\",\"created_at\":\"2024-07-29T14:36:40.931425Z\",\"message\":{\"role\":\"assistant\",\"content\":\" (\"},\"done\":false}\r\n",
      "{\"model\":\"llama3\",\"created_at\":\"2024-07-29T14:36:40.954511Z\",\"message\":{\"role\":\"assistant\",\"content\":\"N\"},\"done\":false}\r\n",
      "{\"model\":\"llama3\",\"created_at\":\"2024-07-29T14:36:40.977018Z\",\"message\":{\"role\":\"assistant\",\"content\":\"2\"},\"done\":false}\r\n",
      "{\"model\":\"llama3\",\"created_at\":\"2024-07-29T14:36:40.99967Z\",\"message\":{\"role\":\"assistant\",\"content\":\")\"},\"done\":false}\r\n",
      "{\"model\":\"llama3\",\"created_at\":\"2024-07-29T14:36:41.022754Z\",\"message\":{\"role\":\"assistant\",\"content\":\" and\"},\"done\":false}\r\n",
      "{\"model\":\"llama3\",\"created_at\":\"2024-07-29T14:36:41.045474Z\",\"message\":{\"role\":\"assistant\",\"content\":\" oxygen\"},\"done\":false}\r\n",
      "{\"model\":\"llama3\",\"created_at\":\"2024-07-29T14:36:41.068692Z\",\"message\":{\"role\":\"assistant\",\"content\":\" (\"},\"done\":false}\r\n",
      "{\"model\":\"llama3\",\"created_at\":\"2024-07-29T14:36:41.091224Z\",\"message\":{\"role\":\"assistant\",\"content\":\"O\"},\"done\":false}\r\n",
      "{\"model\":\"llama3\",\"created_at\":\"2024-07-29T14:36:41.114227Z\",\"message\":{\"role\":\"assistant\",\"content\":\"2\"},\"done\":false}\r\n",
      "{\"model\":\"llama3\",\"created_at\":\"2024-07-29T14:36:41.13691Z\",\"message\":{\"role\":\"assistant\",\"content\":\").\"},\"done\":false}\r\n",
      "{\"model\":\"llama3\",\"created_at\":\"2024-07-29T14:36:41.161293Z\",\"message\":{\"role\":\"assistant\",\"content\":\" These\"},\"done\":false}\r\n",
      "{\"model\":\"llama3\",\"created_at\":\"2024-07-29T14:36:41.184962Z\",\"message\":{\"role\":\"assistant\",\"content\":\" molecules\"},\"done\":false}\r\n",
      "{\"model\":\"llama3\",\"created_at\":\"2024-07-29T14:36:41.20769Z\",\"message\":{\"role\":\"assistant\",\"content\":\" scatter\"},\"done\":false}\r\n",
      "{\"model\":\"llama3\",\"created_at\":\"2024-07-29T14:36:41.231504Z\",\"message\":{\"role\":\"assistant\",\"content\":\" the\"},\"done\":false}\r\n",
      "{\"model\":\"llama3\",\"created_at\":\"2024-07-29T14:36:41.254056Z\",\"message\":{\"role\":\"assistant\",\"content\":\" light\"},\"done\":false}\r\n",
      "{\"model\":\"llama3\",\"created_at\":\"2024-07-29T14:36:41.276889Z\",\"message\":{\"role\":\"assistant\",\"content\":\" in\"},\"done\":false}\r\n",
      "{\"model\":\"llama3\",\"created_at\":\"2024-07-29T14:36:41.300058Z\",\"message\":{\"role\":\"assistant\",\"content\":\" all\"},\"done\":false}\r\n",
      "{\"model\":\"llama3\",\"created_at\":\"2024-07-29T14:36:41.327391Z\",\"message\":{\"role\":\"assistant\",\"content\":\" directions\"},\"done\":false}\r\n",
      "{\"model\":\"llama3\",\"created_at\":\"2024-07-29T14:36:41.35274Z\",\"message\":{\"role\":\"assistant\",\"content\":\",\"},\"done\":false}\r\n",
      "{\"model\":\"llama3\",\"created_at\":\"2024-07-29T14:36:41.376958Z\",\"message\":{\"role\":\"assistant\",\"content\":\" but\"},\"done\":false}\r\n",
      "{\"model\":\"llama3\",\"created_at\":\"2024-07-29T14:36:41.402391Z\",\"message\":{\"role\":\"assistant\",\"content\":\" they\"},\"done\":false}\r\n",
      "{\"model\":\"llama3\",\"created_at\":\"2024-07-29T14:36:41.428191Z\",\"message\":{\"role\":\"assistant\",\"content\":\" scatter\"},\"done\":false}\r\n",
      "{\"model\":\"llama3\",\"created_at\":\"2024-07-29T14:36:41.452203Z\",\"message\":{\"role\":\"assistant\",\"content\":\" shorter\"},\"done\":false}\r\n",
      "{\"model\":\"llama3\",\"created_at\":\"2024-07-29T14:36:41.477617Z\",\"message\":{\"role\":\"assistant\",\"content\":\" (\"},\"done\":false}\r\n",
      "{\"model\":\"llama3\",\"created_at\":\"2024-07-29T14:36:41.501882Z\",\"message\":{\"role\":\"assistant\",\"content\":\"blue\"},\"done\":false}\r\n",
      "{\"model\":\"llama3\",\"created_at\":\"2024-07-29T14:36:41.526532Z\",\"message\":{\"role\":\"assistant\",\"content\":\")\"},\"done\":false}\r\n",
      "{\"model\":\"llama3\",\"created_at\":\"2024-07-29T14:36:41.550294Z\",\"message\":{\"role\":\"assistant\",\"content\":\" wavelengths\"},\"done\":false}\r\n",
      "{\"model\":\"llama3\",\"created_at\":\"2024-07-29T14:36:41.574211Z\",\"message\":{\"role\":\"assistant\",\"content\":\" more\"},\"done\":false}\r\n",
      "{\"model\":\"llama3\",\"created_at\":\"2024-07-29T14:36:41.59827Z\",\"message\":{\"role\":\"assistant\",\"content\":\" than\"},\"done\":false}\r\n",
      "{\"model\":\"llama3\",\"created_at\":\"2024-07-29T14:36:41.621564Z\",\"message\":{\"role\":\"assistant\",\"content\":\" longer\"},\"done\":false}\r\n",
      "{\"model\":\"llama3\",\"created_at\":\"2024-07-29T14:36:41.646166Z\",\"message\":{\"role\":\"assistant\",\"content\":\" (\"},\"done\":false}\r\n",
      "{\"model\":\"llama3\",\"created_at\":\"2024-07-29T14:36:41.669996Z\",\"message\":{\"role\":\"assistant\",\"content\":\"red\"},\"done\":false}\r\n",
      "{\"model\":\"llama3\",\"created_at\":\"2024-07-29T14:36:41.695506Z\",\"message\":{\"role\":\"assistant\",\"content\":\")\"},\"done\":false}\r\n",
      "{\"model\":\"llama3\",\"created_at\":\"2024-07-29T14:36:41.719166Z\",\"message\":{\"role\":\"assistant\",\"content\":\" wavelengths\"},\"done\":false}\r\n",
      "{\"model\":\"llama3\",\"created_at\":\"2024-07-29T14:36:41.743016Z\",\"message\":{\"role\":\"assistant\",\"content\":\".\\n\\n\"},\"done\":false}\r\n",
      "{\"model\":\"llama3\",\"created_at\":\"2024-07-29T14:36:41.766717Z\",\"message\":{\"role\":\"assistant\",\"content\":\"Here\"},\"done\":false}\r\n",
      "{\"model\":\"llama3\",\"created_at\":\"2024-07-29T14:36:41.790166Z\",\"message\":{\"role\":\"assistant\",\"content\":\"'s\"},\"done\":false}\r\n",
      "{\"model\":\"llama3\",\"created_at\":\"2024-07-29T14:36:41.812673Z\",\"message\":{\"role\":\"assistant\",\"content\":\" why\"},\"done\":false}\r\n",
      "{\"model\":\"llama3\",\"created_at\":\"2024-07-29T14:36:41.835762Z\",\"message\":{\"role\":\"assistant\",\"content\":\":\\n\\n\"},\"done\":false}\r\n",
      "{\"model\":\"llama3\",\"created_at\":\"2024-07-29T14:36:41.859854Z\",\"message\":{\"role\":\"assistant\",\"content\":\"1\"},\"done\":false}\r\n",
      "{\"model\":\"llama3\",\"created_at\":\"2024-07-29T14:36:41.883619Z\",\"message\":{\"role\":\"assistant\",\"content\":\".\"},\"done\":false}\r\n",
      "{\"model\":\"llama3\",\"created_at\":\"2024-07-29T14:36:41.907548Z\",\"message\":{\"role\":\"assistant\",\"content\":\" **\"},\"done\":false}\r\n",
      "{\"model\":\"llama3\",\"created_at\":\"2024-07-29T14:36:41.933352Z\",\"message\":{\"role\":\"assistant\",\"content\":\"M\"},\"done\":false}\r\n",
      "{\"model\":\"llama3\",\"created_at\":\"2024-07-29T14:36:41.957943Z\",\"message\":{\"role\":\"assistant\",\"content\":\"olecular\"},\"done\":false}\r\n",
      "{\"model\":\"llama3\",\"created_at\":\"2024-07-29T14:36:41.983079Z\",\"message\":{\"role\":\"assistant\",\"content\":\" size\"},\"done\":false}\r\n",
      "{\"model\":\"llama3\",\"created_at\":\"2024-07-29T14:36:42.00764Z\",\"message\":{\"role\":\"assistant\",\"content\":\"**:\"},\"done\":false}\r\n",
      "{\"model\":\"llama3\",\"created_at\":\"2024-07-29T14:36:42.031927Z\",\"message\":{\"role\":\"assistant\",\"content\":\" The\"},\"done\":false}\r\n",
      "{\"model\":\"llama3\",\"created_at\":\"2024-07-29T14:36:42.056942Z\",\"message\":{\"role\":\"assistant\",\"content\":\" small\"},\"done\":false}\r\n",
      "{\"model\":\"llama3\",\"created_at\":\"2024-07-29T14:36:42.081822Z\",\"message\":{\"role\":\"assistant\",\"content\":\" molecules\"},\"done\":false}\r\n",
      "{\"model\":\"llama3\",\"created_at\":\"2024-07-29T14:36:42.105476Z\",\"message\":{\"role\":\"assistant\",\"content\":\" of\"},\"done\":false}\r\n",
      "{\"model\":\"llama3\",\"created_at\":\"2024-07-29T14:36:42.129742Z\",\"message\":{\"role\":\"assistant\",\"content\":\" gases\"},\"done\":false}\r\n",
      "{\"model\":\"llama3\",\"created_at\":\"2024-07-29T14:36:42.153892Z\",\"message\":{\"role\":\"assistant\",\"content\":\" in\"},\"done\":false}\r\n",
      "{\"model\":\"llama3\",\"created_at\":\"2024-07-29T14:36:42.178009Z\",\"message\":{\"role\":\"assistant\",\"content\":\" the\"},\"done\":false}\r\n",
      "{\"model\":\"llama3\",\"created_at\":\"2024-07-29T14:36:42.202892Z\",\"message\":{\"role\":\"assistant\",\"content\":\" atmosphere\"},\"done\":false}\r\n",
      "{\"model\":\"llama3\",\"created_at\":\"2024-07-29T14:36:42.227374Z\",\"message\":{\"role\":\"assistant\",\"content\":\" are\"},\"done\":false}\r\n",
      "{\"model\":\"llama3\",\"created_at\":\"2024-07-29T14:36:42.251222Z\",\"message\":{\"role\":\"assistant\",\"content\":\" similar\"},\"done\":false}\r\n",
      "{\"model\":\"llama3\",\"created_at\":\"2024-07-29T14:36:42.27428Z\",\"message\":{\"role\":\"assistant\",\"content\":\" in\"},\"done\":false}\r\n",
      "{\"model\":\"llama3\",\"created_at\":\"2024-07-29T14:36:42.297654Z\",\"message\":{\"role\":\"assistant\",\"content\":\" size\"},\"done\":false}\r\n",
      "{\"model\":\"llama3\",\"created_at\":\"2024-07-29T14:36:42.321172Z\",\"message\":{\"role\":\"assistant\",\"content\":\" to\"},\"done\":false}\r\n",
      "{\"model\":\"llama3\",\"created_at\":\"2024-07-29T14:36:42.345283Z\",\"message\":{\"role\":\"assistant\",\"content\":\" the\"},\"done\":false}\r\n",
      "{\"model\":\"llama3\",\"created_at\":\"2024-07-29T14:36:42.370485Z\",\"message\":{\"role\":\"assistant\",\"content\":\" wavelength\"},\"done\":false}\r\n",
      "{\"model\":\"llama3\",\"created_at\":\"2024-07-29T14:36:42.394373Z\",\"message\":{\"role\":\"assistant\",\"content\":\" of\"},\"done\":false}\r\n",
      "{\"model\":\"llama3\",\"created_at\":\"2024-07-29T14:36:42.418895Z\",\"message\":{\"role\":\"assistant\",\"content\":\" blue\"},\"done\":false}\r\n",
      "{\"model\":\"llama3\",\"created_at\":\"2024-07-29T14:36:42.44298Z\",\"message\":{\"role\":\"assistant\",\"content\":\" light\"},\"done\":false}\r\n",
      "{\"model\":\"llama3\",\"created_at\":\"2024-07-29T14:36:42.466141Z\",\"message\":{\"role\":\"assistant\",\"content\":\" (\"},\"done\":false}\r\n",
      "{\"model\":\"llama3\",\"created_at\":\"2024-07-29T14:36:42.489871Z\",\"message\":{\"role\":\"assistant\",\"content\":\"around\"},\"done\":false}\r\n",
      "{\"model\":\"llama3\",\"created_at\":\"2024-07-29T14:36:42.514204Z\",\"message\":{\"role\":\"assistant\",\"content\":\" \"},\"done\":false}\r\n",
      "{\"model\":\"llama3\",\"created_at\":\"2024-07-29T14:36:42.538318Z\",\"message\":{\"role\":\"assistant\",\"content\":\"400\"},\"done\":false}\r\n",
      "{\"model\":\"llama3\",\"created_at\":\"2024-07-29T14:36:42.561631Z\",\"message\":{\"role\":\"assistant\",\"content\":\"-\"},\"done\":false}\r\n",
      "{\"model\":\"llama3\",\"created_at\":\"2024-07-29T14:36:42.585201Z\",\"message\":{\"role\":\"assistant\",\"content\":\"500\"},\"done\":false}\r\n",
      "{\"model\":\"llama3\",\"created_at\":\"2024-07-29T14:36:42.610399Z\",\"message\":{\"role\":\"assistant\",\"content\":\" nan\"},\"done\":false}\r\n",
      "{\"model\":\"llama3\",\"created_at\":\"2024-07-29T14:36:42.633663Z\",\"message\":{\"role\":\"assistant\",\"content\":\"ometers\"},\"done\":false}\r\n",
      "{\"model\":\"llama3\",\"created_at\":\"2024-07-29T14:36:42.65842Z\",\"message\":{\"role\":\"assistant\",\"content\":\").\"},\"done\":false}\r\n",
      "{\"model\":\"llama3\",\"created_at\":\"2024-07-29T14:36:42.682582Z\",\"message\":{\"role\":\"assistant\",\"content\":\" This\"},\"done\":false}\r\n",
      "{\"model\":\"llama3\",\"created_at\":\"2024-07-29T14:36:42.706715Z\",\"message\":{\"role\":\"assistant\",\"content\":\" means\"},\"done\":false}\r\n",
      "{\"model\":\"llama3\",\"created_at\":\"2024-07-29T14:36:42.729802Z\",\"message\":{\"role\":\"assistant\",\"content\":\" that\"},\"done\":false}\r\n",
      "{\"model\":\"llama3\",\"created_at\":\"2024-07-29T14:36:42.752711Z\",\"message\":{\"role\":\"assistant\",\"content\":\" these\"},\"done\":false}\r\n",
      "{\"model\":\"llama3\",\"created_at\":\"2024-07-29T14:36:42.777023Z\",\"message\":{\"role\":\"assistant\",\"content\":\" molecules\"},\"done\":false}\r\n",
      "{\"model\":\"llama3\",\"created_at\":\"2024-07-29T14:36:42.800397Z\",\"message\":{\"role\":\"assistant\",\"content\":\" can\"},\"done\":false}\r\n",
      "{\"model\":\"llama3\",\"created_at\":\"2024-07-29T14:36:42.824284Z\",\"message\":{\"role\":\"assistant\",\"content\":\" effectively\"},\"done\":false}\r\n",
      "{\"model\":\"llama3\",\"created_at\":\"2024-07-29T14:36:42.848239Z\",\"message\":{\"role\":\"assistant\",\"content\":\" scatter\"},\"done\":false}\r\n",
      "{\"model\":\"llama3\",\"created_at\":\"2024-07-29T14:36:42.87074Z\",\"message\":{\"role\":\"assistant\",\"content\":\" blue\"},\"done\":false}\r\n",
      "{\"model\":\"llama3\",\"created_at\":\"2024-07-29T14:36:42.893575Z\",\"message\":{\"role\":\"assistant\",\"content\":\" light\"},\"done\":false}\r\n",
      "{\"model\":\"llama3\",\"created_at\":\"2024-07-29T14:36:42.916761Z\",\"message\":{\"role\":\"assistant\",\"content\":\",\"},\"done\":false}\r\n",
      "{\"model\":\"llama3\",\"created_at\":\"2024-07-29T14:36:42.94026Z\",\"message\":{\"role\":\"assistant\",\"content\":\" making\"},\"done\":false}\r\n",
      "{\"model\":\"llama3\",\"created_at\":\"2024-07-29T14:36:42.964125Z\",\"message\":{\"role\":\"assistant\",\"content\":\" it\"},\"done\":false}\r\n",
      "{\"model\":\"llama3\",\"created_at\":\"2024-07-29T14:36:42.987084Z\",\"message\":{\"role\":\"assistant\",\"content\":\" bounce\"},\"done\":false}\r\n",
      "{\"model\":\"llama3\",\"created_at\":\"2024-07-29T14:36:43.010387Z\",\"message\":{\"role\":\"assistant\",\"content\":\" around\"},\"done\":false}\r\n",
      "{\"model\":\"llama3\",\"created_at\":\"2024-07-29T14:36:43.033796Z\",\"message\":{\"role\":\"assistant\",\"content\":\" in\"},\"done\":false}\r\n",
      "{\"model\":\"llama3\",\"created_at\":\"2024-07-29T14:36:43.05639Z\",\"message\":{\"role\":\"assistant\",\"content\":\" all\"},\"done\":false}\r\n",
      "{\"model\":\"llama3\",\"created_at\":\"2024-07-29T14:36:43.079815Z\",\"message\":{\"role\":\"assistant\",\"content\":\" directions\"},\"done\":false}\r\n",
      "{\"model\":\"llama3\",\"created_at\":\"2024-07-29T14:36:43.103587Z\",\"message\":{\"role\":\"assistant\",\"content\":\".\\n\"},\"done\":false}\r\n",
      "{\"model\":\"llama3\",\"created_at\":\"2024-07-29T14:36:43.129242Z\",\"message\":{\"role\":\"assistant\",\"content\":\"2\"},\"done\":false}\r\n",
      "{\"model\":\"llama3\",\"created_at\":\"2024-07-29T14:36:43.153685Z\",\"message\":{\"role\":\"assistant\",\"content\":\".\"},\"done\":false}\r\n",
      "{\"model\":\"llama3\",\"created_at\":\"2024-07-29T14:36:43.177254Z\",\"message\":{\"role\":\"assistant\",\"content\":\" **\"},\"done\":false}\r\n",
      "{\"model\":\"llama3\",\"created_at\":\"2024-07-29T14:36:43.200953Z\",\"message\":{\"role\":\"assistant\",\"content\":\"Sc\"},\"done\":false}\r\n",
      "{\"model\":\"llama3\",\"created_at\":\"2024-07-29T14:36:43.225615Z\",\"message\":{\"role\":\"assistant\",\"content\":\"attering\"},\"done\":false}\r\n",
      "{\"model\":\"llama3\",\"created_at\":\"2024-07-29T14:36:43.252158Z\",\"message\":{\"role\":\"assistant\",\"content\":\" efficiency\"},\"done\":false}\r\n",
      "{\"model\":\"llama3\",\"created_at\":\"2024-07-29T14:36:43.277458Z\",\"message\":{\"role\":\"assistant\",\"content\":\"**:\"},\"done\":false}\r\n",
      "{\"model\":\"llama3\",\"created_at\":\"2024-07-29T14:36:43.301831Z\",\"message\":{\"role\":\"assistant\",\"content\":\" As\"},\"done\":false}\r\n",
      "{\"model\":\"llama3\",\"created_at\":\"2024-07-29T14:36:43.325691Z\",\"message\":{\"role\":\"assistant\",\"content\":\" light\"},\"done\":false}\r\n",
      "{\"model\":\"llama3\",\"created_at\":\"2024-07-29T14:36:43.349118Z\",\"message\":{\"role\":\"assistant\",\"content\":\" travels\"},\"done\":false}\r\n",
      "{\"model\":\"llama3\",\"created_at\":\"2024-07-29T14:36:43.374142Z\",\"message\":{\"role\":\"assistant\",\"content\":\" through\"},\"done\":false}\r\n",
      "{\"model\":\"llama3\",\"created_at\":\"2024-07-29T14:36:43.399848Z\",\"message\":{\"role\":\"assistant\",\"content\":\" the\"},\"done\":false}\r\n",
      "{\"model\":\"llama3\",\"created_at\":\"2024-07-29T14:36:43.423621Z\",\"message\":{\"role\":\"assistant\",\"content\":\" atmosphere\"},\"done\":false}\r\n",
      "{\"model\":\"llama3\",\"created_at\":\"2024-07-29T14:36:43.4484Z\",\"message\":{\"role\":\"assistant\",\"content\":\",\"},\"done\":false}\r\n",
      "{\"model\":\"llama3\",\"created_at\":\"2024-07-29T14:36:43.472685Z\",\"message\":{\"role\":\"assistant\",\"content\":\" it\"},\"done\":false}\r\n",
      "{\"model\":\"llama3\",\"created_at\":\"2024-07-29T14:36:43.496986Z\",\"message\":{\"role\":\"assistant\",\"content\":\" encounters\"},\"done\":false}\r\n",
      "{\"model\":\"llama3\",\"created_at\":\"2024-07-29T14:36:43.521302Z\",\"message\":{\"role\":\"assistant\",\"content\":\" more\"},\"done\":false}\r\n",
      "{\"model\":\"llama3\",\"created_at\":\"2024-07-29T14:36:43.544825Z\",\"message\":{\"role\":\"assistant\",\"content\":\" molecules\"},\"done\":false}\r\n",
      "{\"model\":\"llama3\",\"created_at\":\"2024-07-29T14:36:43.56859Z\",\"message\":{\"role\":\"assistant\",\"content\":\" and\"},\"done\":false}\r\n",
      "{\"model\":\"llama3\",\"created_at\":\"2024-07-29T14:36:43.59265Z\",\"message\":{\"role\":\"assistant\",\"content\":\" gets\"},\"done\":false}\r\n",
      "{\"model\":\"llama3\",\"created_at\":\"2024-07-29T14:36:43.616979Z\",\"message\":{\"role\":\"assistant\",\"content\":\" scattered\"},\"done\":false}\r\n",
      "{\"model\":\"llama3\",\"created_at\":\"2024-07-29T14:36:43.640018Z\",\"message\":{\"role\":\"assistant\",\"content\":\" repeatedly\"},\"done\":false}\r\n",
      "{\"model\":\"llama3\",\"created_at\":\"2024-07-29T14:36:43.664916Z\",\"message\":{\"role\":\"assistant\",\"content\":\".\"},\"done\":false}\r\n",
      "{\"model\":\"llama3\",\"created_at\":\"2024-07-29T14:36:43.689883Z\",\"message\":{\"role\":\"assistant\",\"content\":\" The\"},\"done\":false}\r\n",
      "{\"model\":\"llama3\",\"created_at\":\"2024-07-29T14:36:43.71413Z\",\"message\":{\"role\":\"assistant\",\"content\":\" smaller\"},\"done\":false}\r\n",
      "{\"model\":\"llama3\",\"created_at\":\"2024-07-29T14:36:43.739915Z\",\"message\":{\"role\":\"assistant\",\"content\":\" wavelengths\"},\"done\":false}\r\n",
      "{\"model\":\"llama3\",\"created_at\":\"2024-07-29T14:36:43.764646Z\",\"message\":{\"role\":\"assistant\",\"content\":\",\"},\"done\":false}\r\n",
      "{\"model\":\"llama3\",\"created_at\":\"2024-07-29T14:36:43.787555Z\",\"message\":{\"role\":\"assistant\",\"content\":\" like\"},\"done\":false}\r\n",
      "{\"model\":\"llama3\",\"created_at\":\"2024-07-29T14:36:43.810904Z\",\"message\":{\"role\":\"assistant\",\"content\":\" blue\"},\"done\":false}\r\n",
      "{\"model\":\"llama3\",\"created_at\":\"2024-07-29T14:36:43.834731Z\",\"message\":{\"role\":\"assistant\",\"content\":\" and\"},\"done\":false}\r\n",
      "{\"model\":\"llama3\",\"created_at\":\"2024-07-29T14:36:43.857937Z\",\"message\":{\"role\":\"assistant\",\"content\":\" violet\"},\"done\":false}\r\n",
      "{\"model\":\"llama3\",\"created_at\":\"2024-07-29T14:36:43.882498Z\",\"message\":{\"role\":\"assistant\",\"content\":\",\"},\"done\":false}\r\n",
      "{\"model\":\"llama3\",\"created_at\":\"2024-07-29T14:36:43.906786Z\",\"message\":{\"role\":\"assistant\",\"content\":\" are\"},\"done\":false}\r\n",
      "{\"model\":\"llama3\",\"created_at\":\"2024-07-29T14:36:43.931139Z\",\"message\":{\"role\":\"assistant\",\"content\":\" scattered\"},\"done\":false}\r\n",
      "{\"model\":\"llama3\",\"created_at\":\"2024-07-29T14:36:43.954692Z\",\"message\":{\"role\":\"assistant\",\"content\":\" more\"},\"done\":false}\r\n",
      "{\"model\":\"llama3\",\"created_at\":\"2024-07-29T14:36:43.981273Z\",\"message\":{\"role\":\"assistant\",\"content\":\" efficiently\"},\"done\":false}\r\n",
      "{\"model\":\"llama3\",\"created_at\":\"2024-07-29T14:36:44.006873Z\",\"message\":{\"role\":\"assistant\",\"content\":\" than\"},\"done\":false}\r\n",
      "{\"model\":\"llama3\",\"created_at\":\"2024-07-29T14:36:44.030901Z\",\"message\":{\"role\":\"assistant\",\"content\":\" the\"},\"done\":false}\r\n",
      "{\"model\":\"llama3\",\"created_at\":\"2024-07-29T14:36:44.054944Z\",\"message\":{\"role\":\"assistant\",\"content\":\" longer\"},\"done\":false}\r\n",
      "{\"model\":\"llama3\",\"created_at\":\"2024-07-29T14:36:44.079207Z\",\"message\":{\"role\":\"assistant\",\"content\":\" wavelengths\"},\"done\":false}\r\n",
      "{\"model\":\"llama3\",\"created_at\":\"2024-07-29T14:36:44.103626Z\",\"message\":{\"role\":\"assistant\",\"content\":\",\"},\"done\":false}\r\n",
      "{\"model\":\"llama3\",\"created_at\":\"2024-07-29T14:36:44.127337Z\",\"message\":{\"role\":\"assistant\",\"content\":\" like\"},\"done\":false}\r\n",
      "{\"model\":\"llama3\",\"created_at\":\"2024-07-29T14:36:44.151908Z\",\"message\":{\"role\":\"assistant\",\"content\":\" red\"},\"done\":false}\r\n",
      "{\"model\":\"llama3\",\"created_at\":\"2024-07-29T14:36:44.176835Z\",\"message\":{\"role\":\"assistant\",\"content\":\" and\"},\"done\":false}\r\n",
      "{\"model\":\"llama3\",\"created_at\":\"2024-07-29T14:36:44.201004Z\",\"message\":{\"role\":\"assistant\",\"content\":\" orange\"},\"done\":false}\r\n",
      "{\"model\":\"llama3\",\"created_at\":\"2024-07-29T14:36:44.225805Z\",\"message\":{\"role\":\"assistant\",\"content\":\".\\n\"},\"done\":false}\r\n",
      "{\"model\":\"llama3\",\"created_at\":\"2024-07-29T14:36:44.249828Z\",\"message\":{\"role\":\"assistant\",\"content\":\"3\"},\"done\":false}\r\n",
      "{\"model\":\"llama3\",\"created_at\":\"2024-07-29T14:36:44.273942Z\",\"message\":{\"role\":\"assistant\",\"content\":\".\"},\"done\":false}\r\n",
      "{\"model\":\"llama3\",\"created_at\":\"2024-07-29T14:36:44.297796Z\",\"message\":{\"role\":\"assistant\",\"content\":\" **\"},\"done\":false}\r\n",
      "{\"model\":\"llama3\",\"created_at\":\"2024-07-29T14:36:44.320936Z\",\"message\":{\"role\":\"assistant\",\"content\":\"Domin\"},\"done\":false}\r\n",
      "{\"model\":\"llama3\",\"created_at\":\"2024-07-29T14:36:44.347331Z\",\"message\":{\"role\":\"assistant\",\"content\":\"ance\"},\"done\":false}\r\n",
      "{\"model\":\"llama3\",\"created_at\":\"2024-07-29T14:36:44.368904Z\",\"message\":{\"role\":\"assistant\",\"content\":\" of\"},\"done\":false}\r\n",
      "{\"model\":\"llama3\",\"created_at\":\"2024-07-29T14:36:44.3925Z\",\"message\":{\"role\":\"assistant\",\"content\":\" blue\"},\"done\":false}\r\n",
      "{\"model\":\"llama3\",\"created_at\":\"2024-07-29T14:36:44.415785Z\",\"message\":{\"role\":\"assistant\",\"content\":\" light\"},\"done\":false}\r\n",
      "{\"model\":\"llama3\",\"created_at\":\"2024-07-29T14:36:44.439114Z\",\"message\":{\"role\":\"assistant\",\"content\":\"**:\"},\"done\":false}\r\n",
      "{\"model\":\"llama3\",\"created_at\":\"2024-07-29T14:36:44.463124Z\",\"message\":{\"role\":\"assistant\",\"content\":\" When\"},\"done\":false}\r\n",
      "{\"model\":\"llama3\",\"created_at\":\"2024-07-29T14:36:44.49104Z\",\"message\":{\"role\":\"assistant\",\"content\":\" you\"},\"done\":false}\r\n",
      "{\"model\":\"llama3\",\"created_at\":\"2024-07-29T14:36:44.517131Z\",\"message\":{\"role\":\"assistant\",\"content\":\" add\"},\"done\":false}\r\n",
      "{\"model\":\"llama3\",\"created_at\":\"2024-07-29T14:36:44.541221Z\",\"message\":{\"role\":\"assistant\",\"content\":\" up\"},\"done\":false}\r\n",
      "{\"model\":\"llama3\",\"created_at\":\"2024-07-29T14:36:44.565984Z\",\"message\":{\"role\":\"assistant\",\"content\":\" the\"},\"done\":false}\r\n",
      "{\"model\":\"llama3\",\"created_at\":\"2024-07-29T14:36:44.590281Z\",\"message\":{\"role\":\"assistant\",\"content\":\" scattering\"},\"done\":false}\r\n",
      "{\"model\":\"llama3\",\"created_at\":\"2024-07-29T14:36:44.614521Z\",\"message\":{\"role\":\"assistant\",\"content\":\" effects\"},\"done\":false}\r\n",
      "{\"model\":\"llama3\",\"created_at\":\"2024-07-29T14:36:44.639284Z\",\"message\":{\"role\":\"assistant\",\"content\":\" from\"},\"done\":false}\r\n",
      "{\"model\":\"llama3\",\"created_at\":\"2024-07-29T14:36:44.663832Z\",\"message\":{\"role\":\"assistant\",\"content\":\" all\"},\"done\":false}\r\n",
      "{\"model\":\"llama3\",\"created_at\":\"2024-07-29T14:36:44.687484Z\",\"message\":{\"role\":\"assistant\",\"content\":\" directions\"},\"done\":false}\r\n",
      "{\"model\":\"llama3\",\"created_at\":\"2024-07-29T14:36:44.711459Z\",\"message\":{\"role\":\"assistant\",\"content\":\",\"},\"done\":false}\r\n",
      "{\"model\":\"llama3\",\"created_at\":\"2024-07-29T14:36:44.736248Z\",\"message\":{\"role\":\"assistant\",\"content\":\" the\"},\"done\":false}\r\n",
      "{\"model\":\"llama3\",\"created_at\":\"2024-07-29T14:36:44.761485Z\",\"message\":{\"role\":\"assistant\",\"content\":\" blue\"},\"done\":false}\r\n",
      "{\"model\":\"llama3\",\"created_at\":\"2024-07-29T14:36:44.785691Z\",\"message\":{\"role\":\"assistant\",\"content\":\" light\"},\"done\":false}\r\n",
      "{\"model\":\"llama3\",\"created_at\":\"2024-07-29T14:36:44.809702Z\",\"message\":{\"role\":\"assistant\",\"content\":\" becomes\"},\"done\":false}\r\n",
      "{\"model\":\"llama3\",\"created_at\":\"2024-07-29T14:36:44.835838Z\",\"message\":{\"role\":\"assistant\",\"content\":\" dominant\"},\"done\":false}\r\n",
      "{\"model\":\"llama3\",\"created_at\":\"2024-07-29T14:36:44.860781Z\",\"message\":{\"role\":\"assistant\",\"content\":\" in\"},\"done\":false}\r\n",
      "{\"model\":\"llama3\",\"created_at\":\"2024-07-29T14:36:44.884594Z\",\"message\":{\"role\":\"assistant\",\"content\":\" our\"},\"done\":false}\r\n",
      "{\"model\":\"llama3\",\"created_at\":\"2024-07-29T14:36:44.909331Z\",\"message\":{\"role\":\"assistant\",\"content\":\" line\"},\"done\":false}\r\n",
      "{\"model\":\"llama3\",\"created_at\":\"2024-07-29T14:36:44.933486Z\",\"message\":{\"role\":\"assistant\",\"content\":\" of\"},\"done\":false}\r\n",
      "{\"model\":\"llama3\",\"created_at\":\"2024-07-29T14:36:44.956737Z\",\"message\":{\"role\":\"assistant\",\"content\":\" sight\"},\"done\":false}\r\n",
      "{\"model\":\"llama3\",\"created_at\":\"2024-07-29T14:36:44.98044Z\",\"message\":{\"role\":\"assistant\",\"content\":\",\"},\"done\":false}\r\n",
      "{\"model\":\"llama3\",\"created_at\":\"2024-07-29T14:36:45.003701Z\",\"message\":{\"role\":\"assistant\",\"content\":\" making\"},\"done\":false}\r\n",
      "{\"model\":\"llama3\",\"created_at\":\"2024-07-29T14:36:45.027438Z\",\"message\":{\"role\":\"assistant\",\"content\":\" the\"},\"done\":false}\r\n",
      "{\"model\":\"llama3\",\"created_at\":\"2024-07-29T14:36:45.050613Z\",\"message\":{\"role\":\"assistant\",\"content\":\" sky\"},\"done\":false}\r\n",
      "{\"model\":\"llama3\",\"created_at\":\"2024-07-29T14:36:45.073475Z\",\"message\":{\"role\":\"assistant\",\"content\":\" appear\"},\"done\":false}\r\n",
      "{\"model\":\"llama3\",\"created_at\":\"2024-07-29T14:36:45.096639Z\",\"message\":{\"role\":\"assistant\",\"content\":\" blue\"},\"done\":false}\r\n",
      "{\"model\":\"llama3\",\"created_at\":\"2024-07-29T14:36:45.120242Z\",\"message\":{\"role\":\"assistant\",\"content\":\".\\n\\n\"},\"done\":false}\r\n",
      "{\"model\":\"llama3\",\"created_at\":\"2024-07-29T14:36:45.145364Z\",\"message\":{\"role\":\"assistant\",\"content\":\"Other\"},\"done\":false}\r\n",
      "{\"model\":\"llama3\",\"created_at\":\"2024-07-29T14:36:45.170904Z\",\"message\":{\"role\":\"assistant\",\"content\":\" factors\"},\"done\":false}\r\n",
      "{\"model\":\"llama3\",\"created_at\":\"2024-07-29T14:36:45.195644Z\",\"message\":{\"role\":\"assistant\",\"content\":\" can\"},\"done\":false}\r\n",
      "{\"model\":\"llama3\",\"created_at\":\"2024-07-29T14:36:45.220626Z\",\"message\":{\"role\":\"assistant\",\"content\":\" influence\"},\"done\":false}\r\n",
      "{\"model\":\"llama3\",\"created_at\":\"2024-07-29T14:36:45.246546Z\",\"message\":{\"role\":\"assistant\",\"content\":\" the\"},\"done\":false}\r\n",
      "{\"model\":\"llama3\",\"created_at\":\"2024-07-29T14:36:45.272787Z\",\"message\":{\"role\":\"assistant\",\"content\":\" color\"},\"done\":false}\r\n",
      "{\"model\":\"llama3\",\"created_at\":\"2024-07-29T14:36:45.298432Z\",\"message\":{\"role\":\"assistant\",\"content\":\" of\"},\"done\":false}\r\n",
      "{\"model\":\"llama3\",\"created_at\":\"2024-07-29T14:36:45.322455Z\",\"message\":{\"role\":\"assistant\",\"content\":\" the\"},\"done\":false}\r\n",
      "{\"model\":\"llama3\",\"created_at\":\"2024-07-29T14:36:45.346962Z\",\"message\":{\"role\":\"assistant\",\"content\":\" sky\"},\"done\":false}\r\n",
      "{\"model\":\"llama3\",\"created_at\":\"2024-07-29T14:36:45.371205Z\",\"message\":{\"role\":\"assistant\",\"content\":\":\\n\\n\"},\"done\":false}\r\n",
      "{\"model\":\"llama3\",\"created_at\":\"2024-07-29T14:36:45.394977Z\",\"message\":{\"role\":\"assistant\",\"content\":\"*\"},\"done\":false}\r\n",
      "{\"model\":\"llama3\",\"created_at\":\"2024-07-29T14:36:45.419274Z\",\"message\":{\"role\":\"assistant\",\"content\":\" **\"},\"done\":false}\r\n",
      "{\"model\":\"llama3\",\"created_at\":\"2024-07-29T14:36:45.44244Z\",\"message\":{\"role\":\"assistant\",\"content\":\"At\"},\"done\":false}\r\n",
      "{\"model\":\"llama3\",\"created_at\":\"2024-07-29T14:36:45.466214Z\",\"message\":{\"role\":\"assistant\",\"content\":\"mos\"},\"done\":false}\r\n",
      "{\"model\":\"llama3\",\"created_at\":\"2024-07-29T14:36:45.489848Z\",\"message\":{\"role\":\"assistant\",\"content\":\"pheric\"},\"done\":false}\r\n",
      "{\"model\":\"llama3\",\"created_at\":\"2024-07-29T14:36:45.513036Z\",\"message\":{\"role\":\"assistant\",\"content\":\" conditions\"},\"done\":false}\r\n",
      "{\"model\":\"llama3\",\"created_at\":\"2024-07-29T14:36:45.536501Z\",\"message\":{\"role\":\"assistant\",\"content\":\"**\"},\"done\":false}\r\n",
      "{\"model\":\"llama3\",\"created_at\":\"2024-07-29T14:36:45.56004Z\",\"message\":{\"role\":\"assistant\",\"content\":\":\\n\"},\"done\":false}\r\n",
      "{\"model\":\"llama3\",\"created_at\":\"2024-07-29T14:36:45.583214Z\",\"message\":{\"role\":\"assistant\",\"content\":\"\\t\"},\"done\":false}\r\n",
      "{\"model\":\"llama3\",\"created_at\":\"2024-07-29T14:36:45.607736Z\",\"message\":{\"role\":\"assistant\",\"content\":\"+\"},\"done\":false}\r\n",
      "{\"model\":\"llama3\",\"created_at\":\"2024-07-29T14:36:45.631068Z\",\"message\":{\"role\":\"assistant\",\"content\":\" Dust\"},\"done\":false}\r\n",
      "{\"model\":\"llama3\",\"created_at\":\"2024-07-29T14:36:45.654857Z\",\"message\":{\"role\":\"assistant\",\"content\":\",\"},\"done\":false}\r\n",
      "{\"model\":\"llama3\",\"created_at\":\"2024-07-29T14:36:45.677899Z\",\"message\":{\"role\":\"assistant\",\"content\":\" pollen\"},\"done\":false}\r\n",
      "{\"model\":\"llama3\",\"created_at\":\"2024-07-29T14:36:45.702327Z\",\"message\":{\"role\":\"assistant\",\"content\":\",\"},\"done\":false}\r\n",
      "{\"model\":\"llama3\",\"created_at\":\"2024-07-29T14:36:45.724887Z\",\"message\":{\"role\":\"assistant\",\"content\":\" and\"},\"done\":false}\r\n",
      "{\"model\":\"llama3\",\"created_at\":\"2024-07-29T14:36:45.749562Z\",\"message\":{\"role\":\"assistant\",\"content\":\" water\"},\"done\":false}\r\n",
      "{\"model\":\"llama3\",\"created_at\":\"2024-07-29T14:36:45.774648Z\",\"message\":{\"role\":\"assistant\",\"content\":\" vapor\"},\"done\":false}\r\n",
      "{\"model\":\"llama3\",\"created_at\":\"2024-07-29T14:36:45.798531Z\",\"message\":{\"role\":\"assistant\",\"content\":\" can\"},\"done\":false}\r\n",
      "{\"model\":\"llama3\",\"created_at\":\"2024-07-29T14:36:45.821958Z\",\"message\":{\"role\":\"assistant\",\"content\":\" scatter\"},\"done\":false}\r\n",
      "{\"model\":\"llama3\",\"created_at\":\"2024-07-29T14:36:45.845487Z\",\"message\":{\"role\":\"assistant\",\"content\":\" light\"},\"done\":false}\r\n",
      "{\"model\":\"llama3\",\"created_at\":\"2024-07-29T14:36:45.868783Z\",\"message\":{\"role\":\"assistant\",\"content\":\",\"},\"done\":false}\r\n",
      "{\"model\":\"llama3\",\"created_at\":\"2024-07-29T14:36:45.892502Z\",\"message\":{\"role\":\"assistant\",\"content\":\" making\"},\"done\":false}\r\n",
      "{\"model\":\"llama3\",\"created_at\":\"2024-07-29T14:36:45.916007Z\",\"message\":{\"role\":\"assistant\",\"content\":\" the\"},\"done\":false}\r\n",
      "{\"model\":\"llama3\",\"created_at\":\"2024-07-29T14:36:45.940197Z\",\"message\":{\"role\":\"assistant\",\"content\":\" sky\"},\"done\":false}\r\n",
      "{\"model\":\"llama3\",\"created_at\":\"2024-07-29T14:36:45.963215Z\",\"message\":{\"role\":\"assistant\",\"content\":\" appear\"},\"done\":false}\r\n",
      "{\"model\":\"llama3\",\"created_at\":\"2024-07-29T14:36:45.986149Z\",\"message\":{\"role\":\"assistant\",\"content\":\" more\"},\"done\":false}\r\n",
      "{\"model\":\"llama3\",\"created_at\":\"2024-07-29T14:36:46.010258Z\",\"message\":{\"role\":\"assistant\",\"content\":\" h\"},\"done\":false}\r\n",
      "{\"model\":\"llama3\",\"created_at\":\"2024-07-29T14:36:46.03338Z\",\"message\":{\"role\":\"assistant\",\"content\":\"azy\"},\"done\":false}\r\n",
      "{\"model\":\"llama3\",\"created_at\":\"2024-07-29T14:36:46.058948Z\",\"message\":{\"role\":\"assistant\",\"content\":\" or\"},\"done\":false}\r\n",
      "{\"model\":\"llama3\",\"created_at\":\"2024-07-29T14:36:46.083535Z\",\"message\":{\"role\":\"assistant\",\"content\":\" gray\"},\"done\":false}\r\n",
      "{\"model\":\"llama3\",\"created_at\":\"2024-07-29T14:36:46.109651Z\",\"message\":{\"role\":\"assistant\",\"content\":\".\\n\"},\"done\":false}\r\n",
      "{\"model\":\"llama3\",\"created_at\":\"2024-07-29T14:36:46.134403Z\",\"message\":{\"role\":\"assistant\",\"content\":\"\\t\"},\"done\":false}\r\n",
      "{\"model\":\"llama3\",\"created_at\":\"2024-07-29T14:36:46.160093Z\",\"message\":{\"role\":\"assistant\",\"content\":\"+\"},\"done\":false}\r\n",
      "{\"model\":\"llama3\",\"created_at\":\"2024-07-29T14:36:46.186425Z\",\"message\":{\"role\":\"assistant\",\"content\":\" Cloud\"},\"done\":false}\r\n",
      "{\"model\":\"llama3\",\"created_at\":\"2024-07-29T14:36:46.210909Z\",\"message\":{\"role\":\"assistant\",\"content\":\"s\"},\"done\":false}\r\n",
      "{\"model\":\"llama3\",\"created_at\":\"2024-07-29T14:36:46.23743Z\",\"message\":{\"role\":\"assistant\",\"content\":\" can\"},\"done\":false}\r\n",
      "{\"model\":\"llama3\",\"created_at\":\"2024-07-29T14:36:46.2621Z\",\"message\":{\"role\":\"assistant\",\"content\":\" reflect\"},\"done\":false}\r\n",
      "{\"model\":\"llama3\",\"created_at\":\"2024-07-29T14:36:46.288785Z\",\"message\":{\"role\":\"assistant\",\"content\":\" sunlight\"},\"done\":false}\r\n",
      "{\"model\":\"llama3\",\"created_at\":\"2024-07-29T14:36:46.313524Z\",\"message\":{\"role\":\"assistant\",\"content\":\",\"},\"done\":false}\r\n",
      "{\"model\":\"llama3\",\"created_at\":\"2024-07-29T14:36:46.336435Z\",\"message\":{\"role\":\"assistant\",\"content\":\" adding\"},\"done\":false}\r\n",
      "{\"model\":\"llama3\",\"created_at\":\"2024-07-29T14:36:46.360118Z\",\"message\":{\"role\":\"assistant\",\"content\":\" white\"},\"done\":false}\r\n",
      "{\"model\":\"llama3\",\"created_at\":\"2024-07-29T14:36:46.383822Z\",\"message\":{\"role\":\"assistant\",\"content\":\" or\"},\"done\":false}\r\n",
      "{\"model\":\"llama3\",\"created_at\":\"2024-07-29T14:36:46.40716Z\",\"message\":{\"role\":\"assistant\",\"content\":\" gray\"},\"done\":false}\r\n",
      "{\"model\":\"llama3\",\"created_at\":\"2024-07-29T14:36:46.432472Z\",\"message\":{\"role\":\"assistant\",\"content\":\" tones\"},\"done\":false}\r\n",
      "{\"model\":\"llama3\",\"created_at\":\"2024-07-29T14:36:46.45906Z\",\"message\":{\"role\":\"assistant\",\"content\":\" to\"},\"done\":false}\r\n",
      "{\"model\":\"llama3\",\"created_at\":\"2024-07-29T14:36:46.482712Z\",\"message\":{\"role\":\"assistant\",\"content\":\" the\"},\"done\":false}\r\n",
      "{\"model\":\"llama3\",\"created_at\":\"2024-07-29T14:36:46.505749Z\",\"message\":{\"role\":\"assistant\",\"content\":\" sky\"},\"done\":false}\r\n",
      "{\"model\":\"llama3\",\"created_at\":\"2024-07-29T14:36:46.527869Z\",\"message\":{\"role\":\"assistant\",\"content\":\".\\n\"},\"done\":false}\r\n",
      "{\"model\":\"llama3\",\"created_at\":\"2024-07-29T14:36:46.551086Z\",\"message\":{\"role\":\"assistant\",\"content\":\"\\t\"},\"done\":false}\r\n",
      "{\"model\":\"llama3\",\"created_at\":\"2024-07-29T14:36:46.574214Z\",\"message\":{\"role\":\"assistant\",\"content\":\"+\"},\"done\":false}\r\n",
      "{\"model\":\"llama3\",\"created_at\":\"2024-07-29T14:36:46.598133Z\",\"message\":{\"role\":\"assistant\",\"content\":\" Air\"},\"done\":false}\r\n",
      "{\"model\":\"llama3\",\"created_at\":\"2024-07-29T14:36:46.621707Z\",\"message\":{\"role\":\"assistant\",\"content\":\" pollution\"},\"done\":false}\r\n",
      "{\"model\":\"llama3\",\"created_at\":\"2024-07-29T14:36:46.646456Z\",\"message\":{\"role\":\"assistant\",\"content\":\" can\"},\"done\":false}\r\n",
      "{\"model\":\"llama3\",\"created_at\":\"2024-07-29T14:36:46.670659Z\",\"message\":{\"role\":\"assistant\",\"content\":\" scatter\"},\"done\":false}\r\n",
      "{\"model\":\"llama3\",\"created_at\":\"2024-07-29T14:36:46.696285Z\",\"message\":{\"role\":\"assistant\",\"content\":\" light\"},\"done\":false}\r\n",
      "{\"model\":\"llama3\",\"created_at\":\"2024-07-29T14:36:46.720891Z\",\"message\":{\"role\":\"assistant\",\"content\":\" in\"},\"done\":false}\r\n",
      "{\"model\":\"llama3\",\"created_at\":\"2024-07-29T14:36:46.746103Z\",\"message\":{\"role\":\"assistant\",\"content\":\" different\"},\"done\":false}\r\n",
      "{\"model\":\"llama3\",\"created_at\":\"2024-07-29T14:36:46.77048Z\",\"message\":{\"role\":\"assistant\",\"content\":\" ways\"},\"done\":false}\r\n",
      "{\"model\":\"llama3\",\"created_at\":\"2024-07-29T14:36:46.79925Z\",\"message\":{\"role\":\"assistant\",\"content\":\",\"},\"done\":false}\r\n",
      "{\"model\":\"llama3\",\"created_at\":\"2024-07-29T14:36:46.823369Z\",\"message\":{\"role\":\"assistant\",\"content\":\" changing\"},\"done\":false}\r\n",
      "{\"model\":\"llama3\",\"created_at\":\"2024-07-29T14:36:46.848412Z\",\"message\":{\"role\":\"assistant\",\"content\":\" the\"},\"done\":false}\r\n",
      "{\"model\":\"llama3\",\"created_at\":\"2024-07-29T14:36:46.87208Z\",\"message\":{\"role\":\"assistant\",\"content\":\" apparent\"},\"done\":false}\r\n",
      "{\"model\":\"llama3\",\"created_at\":\"2024-07-29T14:36:46.895818Z\",\"message\":{\"role\":\"assistant\",\"content\":\" color\"},\"done\":false}\r\n",
      "{\"model\":\"llama3\",\"created_at\":\"2024-07-29T14:36:46.919011Z\",\"message\":{\"role\":\"assistant\",\"content\":\" of\"},\"done\":false}\r\n",
      "{\"model\":\"llama3\",\"created_at\":\"2024-07-29T14:36:46.942764Z\",\"message\":{\"role\":\"assistant\",\"content\":\" the\"},\"done\":false}\r\n",
      "{\"model\":\"llama3\",\"created_at\":\"2024-07-29T14:36:46.9666Z\",\"message\":{\"role\":\"assistant\",\"content\":\" sky\"},\"done\":false}\r\n",
      "{\"model\":\"llama3\",\"created_at\":\"2024-07-29T14:36:46.989812Z\",\"message\":{\"role\":\"assistant\",\"content\":\".\\n\"},\"done\":false}\r\n",
      "{\"model\":\"llama3\",\"created_at\":\"2024-07-29T14:36:47.013755Z\",\"message\":{\"role\":\"assistant\",\"content\":\"*\"},\"done\":false}\r\n",
      "{\"model\":\"llama3\",\"created_at\":\"2024-07-29T14:36:47.037341Z\",\"message\":{\"role\":\"assistant\",\"content\":\" **\"},\"done\":false}\r\n",
      "{\"model\":\"llama3\",\"created_at\":\"2024-07-29T14:36:47.060657Z\",\"message\":{\"role\":\"assistant\",\"content\":\"Time\"},\"done\":false}\r\n",
      "{\"model\":\"llama3\",\"created_at\":\"2024-07-29T14:36:47.086479Z\",\"message\":{\"role\":\"assistant\",\"content\":\" of\"},\"done\":false}\r\n",
      "{\"model\":\"llama3\",\"created_at\":\"2024-07-29T14:36:47.110017Z\",\"message\":{\"role\":\"assistant\",\"content\":\" day\"},\"done\":false}\r\n",
      "{\"model\":\"llama3\",\"created_at\":\"2024-07-29T14:36:47.13395Z\",\"message\":{\"role\":\"assistant\",\"content\":\"**\"},\"done\":false}\r\n",
      "{\"model\":\"llama3\",\"created_at\":\"2024-07-29T14:36:47.157505Z\",\"message\":{\"role\":\"assistant\",\"content\":\":\\n\"},\"done\":false}\r\n",
      "{\"model\":\"llama3\",\"created_at\":\"2024-07-29T14:36:47.183188Z\",\"message\":{\"role\":\"assistant\",\"content\":\"\\t\"},\"done\":false}\r\n",
      "{\"model\":\"llama3\",\"created_at\":\"2024-07-29T14:36:47.20816Z\",\"message\":{\"role\":\"assistant\",\"content\":\"+\"},\"done\":false}\r\n",
      "{\"model\":\"llama3\",\"created_at\":\"2024-07-29T14:36:47.233139Z\",\"message\":{\"role\":\"assistant\",\"content\":\" During\"},\"done\":false}\r\n",
      "{\"model\":\"llama3\",\"created_at\":\"2024-07-29T14:36:47.258301Z\",\"message\":{\"role\":\"assistant\",\"content\":\" sunrise\"},\"done\":false}\r\n",
      "{\"model\":\"llama3\",\"created_at\":\"2024-07-29T14:36:47.283931Z\",\"message\":{\"role\":\"assistant\",\"content\":\" and\"},\"done\":false}\r\n",
      "{\"model\":\"llama3\",\"created_at\":\"2024-07-29T14:36:47.309284Z\",\"message\":{\"role\":\"assistant\",\"content\":\" sunset\"},\"done\":false}\r\n",
      "{\"model\":\"llama3\",\"created_at\":\"2024-07-29T14:36:47.335631Z\",\"message\":{\"role\":\"assistant\",\"content\":\",\"},\"done\":false}\r\n",
      "{\"model\":\"llama3\",\"created_at\":\"2024-07-29T14:36:47.359659Z\",\"message\":{\"role\":\"assistant\",\"content\":\" the\"},\"done\":false}\r\n",
      "{\"model\":\"llama3\",\"created_at\":\"2024-07-29T14:36:47.384217Z\",\"message\":{\"role\":\"assistant\",\"content\":\" angle\"},\"done\":false}\r\n",
      "{\"model\":\"llama3\",\"created_at\":\"2024-07-29T14:36:47.408456Z\",\"message\":{\"role\":\"assistant\",\"content\":\" of\"},\"done\":false}\r\n",
      "{\"model\":\"llama3\",\"created_at\":\"2024-07-29T14:36:47.431933Z\",\"message\":{\"role\":\"assistant\",\"content\":\" the\"},\"done\":false}\r\n",
      "{\"model\":\"llama3\",\"created_at\":\"2024-07-29T14:36:47.45679Z\",\"message\":{\"role\":\"assistant\",\"content\":\" sun\"},\"done\":false}\r\n",
      "{\"model\":\"llama3\",\"created_at\":\"2024-07-29T14:36:47.481793Z\",\"message\":{\"role\":\"assistant\",\"content\":\"'s\"},\"done\":false}\r\n",
      "{\"model\":\"llama3\",\"created_at\":\"2024-07-29T14:36:47.507037Z\",\"message\":{\"role\":\"assistant\",\"content\":\" rays\"},\"done\":false}\r\n",
      "{\"model\":\"llama3\",\"created_at\":\"2024-07-29T14:36:47.532708Z\",\"message\":{\"role\":\"assistant\",\"content\":\" changes\"},\"done\":false}\r\n",
      "{\"model\":\"llama3\",\"created_at\":\"2024-07-29T14:36:47.558582Z\",\"message\":{\"role\":\"assistant\",\"content\":\",\"},\"done\":false}\r\n",
      "{\"model\":\"llama3\",\"created_at\":\"2024-07-29T14:36:47.584042Z\",\"message\":{\"role\":\"assistant\",\"content\":\" scattering\"},\"done\":false}\r\n",
      "{\"model\":\"llama3\",\"created_at\":\"2024-07-29T14:36:47.608213Z\",\"message\":{\"role\":\"assistant\",\"content\":\" shorter\"},\"done\":false}\r\n",
      "{\"model\":\"llama3\",\"created_at\":\"2024-07-29T14:36:47.633786Z\",\"message\":{\"role\":\"assistant\",\"content\":\" wavelengths\"},\"done\":false}\r\n",
      "{\"model\":\"llama3\",\"created_at\":\"2024-07-29T14:36:47.659225Z\",\"message\":{\"role\":\"assistant\",\"content\":\" (\"},\"done\":false}\r\n",
      "{\"model\":\"llama3\",\"created_at\":\"2024-07-29T14:36:47.685481Z\",\"message\":{\"role\":\"assistant\",\"content\":\"like\"},\"done\":false}\r\n",
      "{\"model\":\"llama3\",\"created_at\":\"2024-07-29T14:36:47.711172Z\",\"message\":{\"role\":\"assistant\",\"content\":\" blue\"},\"done\":false}\r\n",
      "{\"model\":\"llama3\",\"created_at\":\"2024-07-29T14:36:47.735951Z\",\"message\":{\"role\":\"assistant\",\"content\":\")\"},\"done\":false}\r\n",
      "{\"model\":\"llama3\",\"created_at\":\"2024-07-29T14:36:47.760863Z\",\"message\":{\"role\":\"assistant\",\"content\":\" more\"},\"done\":false}\r\n",
      "{\"model\":\"llama3\",\"created_at\":\"2024-07-29T14:36:47.78671Z\",\"message\":{\"role\":\"assistant\",\"content\":\" than\"},\"done\":false}\r\n",
      "{\"model\":\"llama3\",\"created_at\":\"2024-07-29T14:36:47.812383Z\",\"message\":{\"role\":\"assistant\",\"content\":\" longer\"},\"done\":false}\r\n",
      "{\"model\":\"llama3\",\"created_at\":\"2024-07-29T14:36:47.8395Z\",\"message\":{\"role\":\"assistant\",\"content\":\" wavelengths\"},\"done\":false}\r\n",
      "{\"model\":\"llama3\",\"created_at\":\"2024-07-29T14:36:47.863152Z\",\"message\":{\"role\":\"assistant\",\"content\":\" (\"},\"done\":false}\r\n",
      "{\"model\":\"llama3\",\"created_at\":\"2024-07-29T14:36:47.887848Z\",\"message\":{\"role\":\"assistant\",\"content\":\"like\"},\"done\":false}\r\n",
      "{\"model\":\"llama3\",\"created_at\":\"2024-07-29T14:36:47.911924Z\",\"message\":{\"role\":\"assistant\",\"content\":\" red\"},\"done\":false}\r\n",
      "{\"model\":\"llama3\",\"created_at\":\"2024-07-29T14:36:47.937264Z\",\"message\":{\"role\":\"assistant\",\"content\":\"),\"},\"done\":false}\r\n",
      "{\"model\":\"llama3\",\"created_at\":\"2024-07-29T14:36:47.962095Z\",\"message\":{\"role\":\"assistant\",\"content\":\" resulting\"},\"done\":false}\r\n",
      "{\"model\":\"llama3\",\"created_at\":\"2024-07-29T14:36:47.986732Z\",\"message\":{\"role\":\"assistant\",\"content\":\" in\"},\"done\":false}\r\n",
      "{\"model\":\"llama3\",\"created_at\":\"2024-07-29T14:36:48.009988Z\",\"message\":{\"role\":\"assistant\",\"content\":\" a\"},\"done\":false}\r\n",
      "{\"model\":\"llama3\",\"created_at\":\"2024-07-29T14:36:48.034552Z\",\"message\":{\"role\":\"assistant\",\"content\":\" redd\"},\"done\":false}\r\n",
      "{\"model\":\"llama3\",\"created_at\":\"2024-07-29T14:36:48.059915Z\",\"message\":{\"role\":\"assistant\",\"content\":\"ish\"},\"done\":false}\r\n",
      "{\"model\":\"llama3\",\"created_at\":\"2024-07-29T14:36:48.084013Z\",\"message\":{\"role\":\"assistant\",\"content\":\" hue\"},\"done\":false}\r\n",
      "{\"model\":\"llama3\",\"created_at\":\"2024-07-29T14:36:48.108061Z\",\"message\":{\"role\":\"assistant\",\"content\":\".\\n\"},\"done\":false}\r\n",
      "{\"model\":\"llama3\",\"created_at\":\"2024-07-29T14:36:48.132286Z\",\"message\":{\"role\":\"assistant\",\"content\":\"\\t\"},\"done\":false}\r\n",
      "{\"model\":\"llama3\",\"created_at\":\"2024-07-29T14:36:48.156436Z\",\"message\":{\"role\":\"assistant\",\"content\":\"+\"},\"done\":false}\r\n",
      "{\"model\":\"llama3\",\"created_at\":\"2024-07-29T14:36:48.179712Z\",\"message\":{\"role\":\"assistant\",\"content\":\" At\"},\"done\":false}\r\n",
      "{\"model\":\"llama3\",\"created_at\":\"2024-07-29T14:36:48.205165Z\",\"message\":{\"role\":\"assistant\",\"content\":\" noon\"},\"done\":false}\r\n",
      "{\"model\":\"llama3\",\"created_at\":\"2024-07-29T14:36:48.229079Z\",\"message\":{\"role\":\"assistant\",\"content\":\",\"},\"done\":false}\r\n",
      "{\"model\":\"llama3\",\"created_at\":\"2024-07-29T14:36:48.252893Z\",\"message\":{\"role\":\"assistant\",\"content\":\" when\"},\"done\":false}\r\n",
      "{\"model\":\"llama3\",\"created_at\":\"2024-07-29T14:36:48.277015Z\",\"message\":{\"role\":\"assistant\",\"content\":\" the\"},\"done\":false}\r\n",
      "{\"model\":\"llama3\",\"created_at\":\"2024-07-29T14:36:48.302349Z\",\"message\":{\"role\":\"assistant\",\"content\":\" sun\"},\"done\":false}\r\n",
      "{\"model\":\"llama3\",\"created_at\":\"2024-07-29T14:36:48.326175Z\",\"message\":{\"role\":\"assistant\",\"content\":\" is\"},\"done\":false}\r\n",
      "{\"model\":\"llama3\",\"created_at\":\"2024-07-29T14:36:48.349963Z\",\"message\":{\"role\":\"assistant\",\"content\":\" overhead\"},\"done\":false}\r\n",
      "{\"model\":\"llama3\",\"created_at\":\"2024-07-29T14:36:48.374048Z\",\"message\":{\"role\":\"assistant\",\"content\":\",\"},\"done\":false}\r\n",
      "{\"model\":\"llama3\",\"created_at\":\"2024-07-29T14:36:48.397611Z\",\"message\":{\"role\":\"assistant\",\"content\":\" the\"},\"done\":false}\r\n",
      "{\"model\":\"llama3\",\"created_at\":\"2024-07-29T14:36:48.421539Z\",\"message\":{\"role\":\"assistant\",\"content\":\" scattering\"},\"done\":false}\r\n",
      "{\"model\":\"llama3\",\"created_at\":\"2024-07-29T14:36:48.445608Z\",\"message\":{\"role\":\"assistant\",\"content\":\" is\"},\"done\":false}\r\n",
      "{\"model\":\"llama3\",\"created_at\":\"2024-07-29T14:36:48.47013Z\",\"message\":{\"role\":\"assistant\",\"content\":\" more\"},\"done\":false}\r\n",
      "{\"model\":\"llama3\",\"created_at\":\"2024-07-29T14:36:48.494663Z\",\"message\":{\"role\":\"assistant\",\"content\":\" even\"},\"done\":false}\r\n",
      "{\"model\":\"llama3\",\"created_at\":\"2024-07-29T14:36:48.52056Z\",\"message\":{\"role\":\"assistant\",\"content\":\",\"},\"done\":false}\r\n",
      "{\"model\":\"llama3\",\"created_at\":\"2024-07-29T14:36:48.54651Z\",\"message\":{\"role\":\"assistant\",\"content\":\" making\"},\"done\":false}\r\n",
      "{\"model\":\"llama3\",\"created_at\":\"2024-07-29T14:36:48.572089Z\",\"message\":{\"role\":\"assistant\",\"content\":\" the\"},\"done\":false}\r\n",
      "{\"model\":\"llama3\",\"created_at\":\"2024-07-29T14:36:48.59644Z\",\"message\":{\"role\":\"assistant\",\"content\":\" sky\"},\"done\":false}\r\n",
      "{\"model\":\"llama3\",\"created_at\":\"2024-07-29T14:36:48.622379Z\",\"message\":{\"role\":\"assistant\",\"content\":\" appear\"},\"done\":false}\r\n",
      "{\"model\":\"llama3\",\"created_at\":\"2024-07-29T14:36:48.648003Z\",\"message\":{\"role\":\"assistant\",\"content\":\" bl\"},\"done\":false}\r\n",
      "{\"model\":\"llama3\",\"created_at\":\"2024-07-29T14:36:48.67428Z\",\"message\":{\"role\":\"assistant\",\"content\":\"uer\"},\"done\":false}\r\n",
      "{\"model\":\"llama3\",\"created_at\":\"2024-07-29T14:36:48.700061Z\",\"message\":{\"role\":\"assistant\",\"content\":\".\\n\\n\"},\"done\":false}\r\n",
      "{\"model\":\"llama3\",\"created_at\":\"2024-07-29T14:36:48.72565Z\",\"message\":{\"role\":\"assistant\",\"content\":\"In\"},\"done\":false}\r\n",
      "{\"model\":\"llama3\",\"created_at\":\"2024-07-29T14:36:48.753653Z\",\"message\":{\"role\":\"assistant\",\"content\":\" summary\"},\"done\":false}\r\n",
      "{\"model\":\"llama3\",\"created_at\":\"2024-07-29T14:36:48.779007Z\",\"message\":{\"role\":\"assistant\",\"content\":\",\"},\"done\":false}\r\n",
      "{\"model\":\"llama3\",\"created_at\":\"2024-07-29T14:36:48.805259Z\",\"message\":{\"role\":\"assistant\",\"content\":\" the\"},\"done\":false}\r\n",
      "{\"model\":\"llama3\",\"created_at\":\"2024-07-29T14:36:48.830522Z\",\"message\":{\"role\":\"assistant\",\"content\":\" sky\"},\"done\":false}\r\n",
      "{\"model\":\"llama3\",\"created_at\":\"2024-07-29T14:36:48.855976Z\",\"message\":{\"role\":\"assistant\",\"content\":\" appears\"},\"done\":false}\r\n",
      "{\"model\":\"llama3\",\"created_at\":\"2024-07-29T14:36:48.881543Z\",\"message\":{\"role\":\"assistant\",\"content\":\" blue\"},\"done\":false}\r\n",
      "{\"model\":\"llama3\",\"created_at\":\"2024-07-29T14:36:48.906848Z\",\"message\":{\"role\":\"assistant\",\"content\":\" because\"},\"done\":false}\r\n",
      "{\"model\":\"llama3\",\"created_at\":\"2024-07-29T14:36:48.932251Z\",\"message\":{\"role\":\"assistant\",\"content\":\" of\"},\"done\":false}\r\n",
      "{\"model\":\"llama3\",\"created_at\":\"2024-07-29T14:36:48.957689Z\",\"message\":{\"role\":\"assistant\",\"content\":\" the\"},\"done\":false}\r\n",
      "{\"model\":\"llama3\",\"created_at\":\"2024-07-29T14:36:48.982787Z\",\"message\":{\"role\":\"assistant\",\"content\":\" combined\"},\"done\":false}\r\n",
      "{\"model\":\"llama3\",\"created_at\":\"2024-07-29T14:36:49.00846Z\",\"message\":{\"role\":\"assistant\",\"content\":\" effects\"},\"done\":false}\r\n",
      "{\"model\":\"llama3\",\"created_at\":\"2024-07-29T14:36:49.03229Z\",\"message\":{\"role\":\"assistant\",\"content\":\" of\"},\"done\":false}\r\n",
      "{\"model\":\"llama3\",\"created_at\":\"2024-07-29T14:36:49.056147Z\",\"message\":{\"role\":\"assistant\",\"content\":\" Ray\"},\"done\":false}\r\n",
      "{\"model\":\"llama3\",\"created_at\":\"2024-07-29T14:36:49.080708Z\",\"message\":{\"role\":\"assistant\",\"content\":\"leigh\"},\"done\":false}\r\n",
      "{\"model\":\"llama3\",\"created_at\":\"2024-07-29T14:36:49.105881Z\",\"message\":{\"role\":\"assistant\",\"content\":\" scattering\"},\"done\":false}\r\n",
      "{\"model\":\"llama3\",\"created_at\":\"2024-07-29T14:36:49.130323Z\",\"message\":{\"role\":\"assistant\",\"content\":\" by\"},\"done\":false}\r\n",
      "{\"model\":\"llama3\",\"created_at\":\"2024-07-29T14:36:49.15549Z\",\"message\":{\"role\":\"assistant\",\"content\":\" tiny\"},\"done\":false}\r\n",
      "{\"model\":\"llama3\",\"created_at\":\"2024-07-29T14:36:49.179667Z\",\"message\":{\"role\":\"assistant\",\"content\":\" atmospheric\"},\"done\":false}\r\n",
      "{\"model\":\"llama3\",\"created_at\":\"2024-07-29T14:36:49.20371Z\",\"message\":{\"role\":\"assistant\",\"content\":\" molecules\"},\"done\":false}\r\n",
      "{\"model\":\"llama3\",\"created_at\":\"2024-07-29T14:36:49.228233Z\",\"message\":{\"role\":\"assistant\",\"content\":\" and\"},\"done\":false}\r\n",
      "{\"model\":\"llama3\",\"created_at\":\"2024-07-29T14:36:49.252197Z\",\"message\":{\"role\":\"assistant\",\"content\":\" the\"},\"done\":false}\r\n",
      "{\"model\":\"llama3\",\"created_at\":\"2024-07-29T14:36:49.27712Z\",\"message\":{\"role\":\"assistant\",\"content\":\" dominance\"},\"done\":false}\r\n",
      "{\"model\":\"llama3\",\"created_at\":\"2024-07-29T14:36:49.301884Z\",\"message\":{\"role\":\"assistant\",\"content\":\" of\"},\"done\":false}\r\n",
      "{\"model\":\"llama3\",\"created_at\":\"2024-07-29T14:36:49.327413Z\",\"message\":{\"role\":\"assistant\",\"content\":\" shorter\"},\"done\":false}\r\n",
      "{\"model\":\"llama3\",\"created_at\":\"2024-07-29T14:36:49.352211Z\",\"message\":{\"role\":\"assistant\",\"content\":\" wavelengths\"},\"done\":false}\r\n",
      "{\"model\":\"llama3\",\"created_at\":\"2024-07-29T14:36:49.376234Z\",\"message\":{\"role\":\"assistant\",\"content\":\" like\"},\"done\":false}\r\n",
      "{\"model\":\"llama3\",\"created_at\":\"2024-07-29T14:36:49.399694Z\",\"message\":{\"role\":\"assistant\",\"content\":\" blue\"},\"done\":false}\r\n",
      "{\"model\":\"llama3\",\"created_at\":\"2024-07-29T14:36:49.424155Z\",\"message\":{\"role\":\"assistant\",\"content\":\" light\"},\"done\":false}\r\n",
      "{\"model\":\"llama3\",\"created_at\":\"2024-07-29T14:36:49.448518Z\",\"message\":{\"role\":\"assistant\",\"content\":\" in\"},\"done\":false}\r\n",
      "{\"model\":\"llama3\",\"created_at\":\"2024-07-29T14:36:49.472653Z\",\"message\":{\"role\":\"assistant\",\"content\":\" our\"},\"done\":false}\r\n",
      "{\"model\":\"llama3\",\"created_at\":\"2024-07-29T14:36:49.496861Z\",\"message\":{\"role\":\"assistant\",\"content\":\" line\"},\"done\":false}\r\n",
      "{\"model\":\"llama3\",\"created_at\":\"2024-07-29T14:36:49.52136Z\",\"message\":{\"role\":\"assistant\",\"content\":\" of\"},\"done\":false}\r\n",
      "{\"model\":\"llama3\",\"created_at\":\"2024-07-29T14:36:49.544837Z\",\"message\":{\"role\":\"assistant\",\"content\":\" sight\"},\"done\":false}\r\n",
      "{\"model\":\"llama3\",\"created_at\":\"2024-07-29T14:36:49.569153Z\",\"message\":{\"role\":\"assistant\",\"content\":\".\"},\"done\":false}\r\n",
      "{\"model\":\"llama3\",\"created_at\":\"2024-07-29T14:36:49.593427Z\",\"message\":{\"role\":\"assistant\",\"content\":\"\"},\"done_reason\":\"stop\",\"done\":true,\"total_duration\":9947034125,\"load_duration\":34003709,\"prompt_eval_count\":16,\"prompt_eval_duration\":321050000,\"eval_count\":397,\"eval_duration\":9590727000}\r\n"
     ]
    }
   ],
   "source": [
    "!curl http://localhost:11434/api/chat -d '{\"model\":\"llama3\", \\\n",
    "\"messages\": [{\\\n",
    "\"role\": \"user\", \\\n",
    "\"content\": \"why is the sky blue?\"}]}'"
   ],
   "metadata": {
    "collapsed": false,
    "ExecuteTime": {
     "end_time": "2024-07-29T14:36:49.702554Z",
     "start_time": "2024-07-29T14:36:39.589159Z"
    }
   },
   "id": "b3218753fcb03720",
   "execution_count": 4
  },
  {
   "cell_type": "markdown",
   "source": [
    "## OpenAI API\n",
    "\n",
    "### CoT + Prompt Compression + Benchmark Evaluation\n",
    "#### OpenAI API 실행 준비 (각자 부여된 API 키 확인)\n",
    "#### https://platform.openai.com/docs/quickstart\n"
   ],
   "metadata": {
    "collapsed": false
   },
   "id": "590206e274a01ff5"
  },
  {
   "cell_type": "code",
   "outputs": [
    {
     "name": "stdout",
     "output_type": "stream",
     "text": [
      "ChatCompletionMessage(content=\"In the realm of code where logic entwines,  \\nLies a wondrous tool with infinite signs.  \\nA dance of functions, both simple and grand,  \\nOh, welcome to recursion, let me take your hand.  \\n\\nImagine a task, a burden to bear,  \\nA problem so large it's beyond compare.  \\nBut, hark! There’s a whisper, a call from within,  \\n“Break it down simple, let the magic begin.”  \\n\\nA function calls forth, to do what it knows,  \\nYet, beckons itself in a loop that still grows.  \\nLike a matryoshka doll, it opens its frame,  \\nAs each one unwinds, they’re all part of the game.  \\n\\n“Base case,” it murmurs, “is where we must pause,  \\nFor without it, dear coder, we’re lost in our cause.”  \\nWith conditions a’ plenty, it knows when to cease,  \\nReturning its value, bringing mathematical peace.  \\n\\nIt marches through depth, with a heart full of cheer,  \\nEach layer revealing the answer draws near.  \\nFor in every recursion, there’s elegance spun,  \\nLike petals unfurling, till the last petal’s done.  \\n\\nFrom factorial thought to Fibonacci’s grace,  \\nRecursion weaves patterns, a curious lace.  \\nOh, embrace the enchantment, let functions collide,  \\nIn the world of recursion, there’s wonder inside.  \\n\\nSo next when you scratch your head, struggling still,  \\nRemember the fractals, the loops that fulfill.  \\nWith a base and a call, let the function return,  \\nIn a dance of recursion, there’s always to learn.  \", role='assistant', function_call=None, tool_calls=None)\n"
     ]
    }
   ],
   "source": [
    "from openai import OpenAI\n",
    "client = OpenAI(api_key=OPENAI_API_KEY)\n",
    "\n",
    "completion = client.chat.completions.create(\n",
    "  model=\"gpt-4o-mini\",\n",
    "  messages=[\n",
    "    {\"role\": \"system\", \"content\": \"You are a poetic assistant, skilled in explaining complex programming concepts with creative flair.\"},\n",
    "    {\"role\": \"user\", \"content\": \"Compose a poem that explains the concept of recursion in programming.\"}\n",
    "  ]\n",
    ")\n",
    "\n",
    "print(completion.choices[0].message)"
   ],
   "metadata": {
    "collapsed": false,
    "ExecuteTime": {
     "end_time": "2024-07-29T14:36:57.988256Z",
     "start_time": "2024-07-29T14:36:49.705688Z"
    }
   },
   "id": "a89835d77fce1e9f",
   "execution_count": 5
  },
  {
   "cell_type": "code",
   "outputs": [],
   "source": [
    "def call_api(message): \n",
    "  completion = client.chat.completions.create(\n",
    "  model=\"gpt-4o-mini\",\n",
    "  messages=[\n",
    "    {\"role\": \"user\", \"content\": message}\n",
    "  ])\n",
    "  return completion.choices[0].message"
   ],
   "metadata": {
    "collapsed": false,
    "ExecuteTime": {
     "end_time": "2024-07-29T14:36:57.995420Z",
     "start_time": "2024-07-29T14:36:57.990647Z"
    }
   },
   "id": "35f25f61435510d7",
   "execution_count": 6
  },
  {
   "cell_type": "markdown",
   "source": [],
   "metadata": {
    "collapsed": false
   },
   "id": "6b18f68cd7d5c14d"
  },
  {
   "cell_type": "code",
   "outputs": [
    {
     "data": {
      "text/plain": "ChatCompletionMessage(content='한국에는 많은 아름답고 매력적인 장소들이 있습니다. 그 중에서도 몇 가지를 소개해 드릴게요.\\n\\n1. **서울**: 한국의 수도로, 경복궁, 명동, 남산, 홍대와 같은 다양한 명소와 맛집이 있습니다. 현대적이면서도 전통적인 매력을 동시에 느낄 수 있는 곳입니다.\\n\\n2. **부산**: 해운대와 광안리 해수욕장이 유명하며, 부산 국제 영화제가 열리는 곳이기도 합니다. 또한, 자갈치 시장에서 신선한 해산물을 맛볼 수 있습니다.\\n\\n3. **제주도**: 아름다운 자연경관과 독특한 문화가 있는 제주도는 관광지로 매우 인기 있습니다. 한라산, 성산일출봉, 그리고 다양한 해변들이 매력적입니다.\\n\\n4. **경주**: 역사와 문화유산이 풍부한 도시로, 불국사와 석굴암 같은 유네스코 세계문화유산이 있습니다. 뛰어난 고대의 유적을 감상할 수 있습니다.\\n\\n5. **전주**: 전주한옥마을에서 전통 한옥과 함께 맛있는 전주비빔밥, 한과 등을 즐길 수 있습니다. 전통문화 체험도 가능합니다.\\n\\n각 지역마다 독특한 매력이 있으니, 관심 있는 테마나 경험에 따라 선택해 보세요!', role='assistant', function_call=None, tool_calls=None)"
     },
     "execution_count": 7,
     "metadata": {},
     "output_type": "execute_result"
    }
   ],
   "source": [
    "call_api('한국에서 최고의 장소는 어디야?')"
   ],
   "metadata": {
    "collapsed": false,
    "ExecuteTime": {
     "end_time": "2024-07-29T14:37:03.602621Z",
     "start_time": "2024-07-29T14:36:57.997208Z"
    }
   },
   "id": "14778fb26e05dfeb",
   "execution_count": 7
  },
  {
   "cell_type": "code",
   "outputs": [
    {
     "data": {
      "text/plain": "ChatCompletionMessage(content='한국에는 다양한 관광명소가 있습니다. 몇 가지 대표적인 관광명소를 소개해 드릴게요.\\n\\n1. **경복궁**: 서울의 대표적인 궁궐로, 조선 시대의 왕궁이었습니다. 아름다운 건축물과 정원, 역사적인 유물이 많이 있습니다.\\n\\n2. **명동**: 서울의 활기 넘치는 쇼핑 거리로, 다양한 브랜드 상점과 맛집이 밀집해 있습니다.\\n\\n3. **부산 해운대**: 해운대 해수욕장은 여름철 인기 있는 해변으로, 다양한 해양 스포츠와 축제가 열립니다.\\n\\n4. **제주도**: 아름다운 자연경관과 많은 관광명소가 있는 제주도는 특히 휴양지로 인기가 많습니다. 한라산, 성산 일출봉, 만장굴 등이 유명합니다.\\n\\n5. **경주**: 신라의 천년 고도로, 불국사와 석굴암, 첨성대 등 유네스코 세계문화유산이 많이 있습니다.\\n\\n6. **전주 한옥마을**: 전통 한옥이 잘 보존된 곳으로, 한국의 전통문화를 체험하고 맛있는 전주비빔밥을 맛볼 수 있습니다.\\n\\n7. ** DMZ (비무장지대)**: 한국전쟁 이후 남북한을 나누는 지역으로, 역사와 분단의 상징적 장소입니다. 다양한 투어 프로그램이 운영됩니다.\\n\\n이 외에도 한국에는 많은 아름답고 매력적인 관광지가 있습니다!', role='assistant', function_call=None, tool_calls=None)"
     },
     "execution_count": 8,
     "metadata": {},
     "output_type": "execute_result"
    }
   ],
   "source": [
    "call_api('한국에서 관광명소는 어디야?')"
   ],
   "metadata": {
    "collapsed": false,
    "ExecuteTime": {
     "end_time": "2024-07-29T14:37:09.806040Z",
     "start_time": "2024-07-29T14:37:03.604488Z"
    }
   },
   "id": "189cbcd488abe54c",
   "execution_count": 8
  },
  {
   "cell_type": "code",
   "outputs": [
    {
     "data": {
      "text/plain": "ChatCompletionMessage(content='The word \"dog\" in Korean is 개 (gae).', role='assistant', function_call=None, tool_calls=None)"
     },
     "execution_count": 9,
     "metadata": {},
     "output_type": "execute_result"
    }
   ],
   "source": [
    "# 영어를 한국어 번역하는 5-shot prompt 를 작성하고 \"dog\"를 번역해보세요.\n",
    "\n",
    "call_api(\"\"\"\n",
    "Translate the following words to Korean:\n",
    "1. book: 책\n",
    "2. cheese: 치즈\n",
    "3. water: 물\n",
    "4. bread: 빵\n",
    "5. apple: 사과\n",
    "\n",
    "Translate the word \"dog\":\"\"\")"
   ],
   "metadata": {
    "collapsed": false,
    "ExecuteTime": {
     "end_time": "2024-07-29T14:37:10.561101Z",
     "start_time": "2024-07-29T14:37:09.807344Z"
    }
   },
   "id": "9bbf2360e77a9e79",
   "execution_count": 9
  },
  {
   "cell_type": "code",
   "outputs": [
    {
     "data": {
      "text/plain": "ChatCompletionMessage(content='negative', role='assistant', function_call=None, tool_calls=None)"
     },
     "execution_count": 10,
     "metadata": {},
     "output_type": "execute_result"
    }
   ],
   "source": [
    "# 영화 리뷰에 대한 sentiment (positive or negative) 를 결정하는 5-shot prompt 를 작성하고 \"The storyline was dull and uninspiring.\" 에 대한 결과를 확인해보세요.\n",
    "\n",
    "call_api(\"\"\"\n",
    "Determine the sentiment (positive or negative) of the following movie reviews:\n",
    "1. \"The movie was fantastic and had great acting.\": positive\n",
    "2. \"I hated the film; it was a complete waste of time.\": negative\n",
    "3. \"An excellent film that kept me on the edge of my seat.\": positive\n",
    "4. \"Terrible plot and horrible acting.\": negative\n",
    "5. \"A wonderful experience with stunning visuals.\": positive\n",
    "\n",
    "Review: \"The storyline was dull and uninspiring.\"\n",
    "Sentiment:\"\"\")"
   ],
   "metadata": {
    "collapsed": false,
    "ExecuteTime": {
     "end_time": "2024-07-29T14:37:11.217229Z",
     "start_time": "2024-07-29T14:37:10.563470Z"
    }
   },
   "id": "860073c0300b9ec8",
   "execution_count": 10
  },
  {
   "cell_type": "code",
   "outputs": [
    {
     "data": {
      "text/plain": "ChatCompletionMessage(content=\"```sql\\nSELECT AVG(salary) FROM employees WHERE department = 'Marketing';\\n```\", role='assistant', function_call=None, tool_calls=None)"
     },
     "execution_count": 11,
     "metadata": {},
     "output_type": "execute_result"
    }
   ],
   "source": [
    "# 자연어를 SQL 쿼리로 바꿔주는 few-shot prompt 를 작성해보세요.\n",
    "\n",
    "call_api(\"\"\"\n",
    "Convert the following natural language requests into SQL queries:\n",
    "1. \"Show all employees with a salary greater than $50,000.\": SELECT * FROM employees WHERE salary > 50000;\n",
    "2. \"List all products that are out of stock.\": SELECT * FROM products WHERE stock = 0;\n",
    "3. \"Find the names of students who scored above 90 in math.\": SELECT name FROM students WHERE math_score > 90;\n",
    "4. \"Retrieve the details of orders placed in the last 30 days.\": SELECT * FROM orders WHERE order_date >= DATE_SUB(CURDATE(), INTERVAL 30 DAY);\n",
    "5. \"Get the count of customers from each city.\": SELECT city, COUNT(*) FROM customers GROUP BY city;\n",
    "\n",
    "Request: \"Find the average salary of employees in the marketing department.\"\n",
    "SQL Query:\"\"\")"
   ],
   "metadata": {
    "collapsed": false,
    "ExecuteTime": {
     "end_time": "2024-07-29T14:37:11.932774Z",
     "start_time": "2024-07-29T14:37:11.220795Z"
    }
   },
   "id": "654590dc578c4e2c",
   "execution_count": 11
  },
  {
   "cell_type": "code",
   "outputs": [
    {
     "data": {
      "text/plain": "ChatCompletionMessage(content='다음은 주어진 자연어 요청에 따라 생성된 SingleStore SQL 쿼리입니다.\\n\\n```sql\\nSET @t_vec = ARRAY[...];  -- 임의의 벡터를 여기 넣어주세요.\\n\\nSELECT *, \\n       DOT_PRODUCT(vector, @t_vec) AS sim\\nFROM test\\nWHERE sim > 0.9;\\n``` \\n\\n임의의 벡터를 사용하려면 `ARRAY[...]` 부분에 해당 벡터 값을 입력해주세요.', role='assistant', function_call=None, tool_calls=None)"
     },
     "execution_count": 12,
     "metadata": {},
     "output_type": "execute_result"
    }
   ],
   "source": [
    "call_api(\"\"\"\n",
    "입력되는 자연어로 SingleStore SQL Queries로 변환해줘:\n",
    "1. t_vec이라는 변수에 임의의 벡터를 할당해\n",
    "2. test table에 있는 vector 컬럼과 dot_prodcut를 계산하고 별칭을 sim으로 정의해줘\n",
    "3. sim 결과가 0.9보다 큰 값만 가져올 수 있도록 필터링\n",
    "4. 최종 쿼리만 출력해줘\n",
    "\"\"\")"
   ],
   "metadata": {
    "collapsed": false,
    "ExecuteTime": {
     "end_time": "2024-07-29T14:37:14.087122Z",
     "start_time": "2024-07-29T14:37:11.934173Z"
    }
   },
   "id": "b05ff2e0dc5d1d2a",
   "execution_count": 12
  },
  {
   "cell_type": "markdown",
   "source": [
    "## Chain of Thought"
   ],
   "metadata": {
    "collapsed": false
   },
   "id": "6cde0857eec4cfb"
  },
  {
   "cell_type": "code",
   "outputs": [
    {
     "data": {
      "text/plain": "ChatCompletionMessage(content=\"Let's solve the problem \\\\( 345 + 678 - 123 \\\\) step-by-step:\\n\\n1. **Break down the numbers**: We have three numbers: 345, 678, and 123.\\n  \\n2. **Add the first two numbers**: \\n   - Start with adding 345 and 678.\\n   - Break them down:\\n     - Tens and hundreds: \\n       - 300 + 600 = 900\\n       - 40 + 70 = 110\\n       - 5 + 8 = 13\\n     - Now combine the results: \\n       - \\\\( 900 + 110 + 13 = 1023 \\\\)\\n\\n3. **Now, subtract the third number from the result**: \\n   - We have \\\\( 1023 - 123 \\\\).\\n   - Break it down:\\n     - Start with the hundreds and tens:\\n       - 1000 - 100 = 900\\n       - 20 - 20 = 0\\n       - 3 - 3 = 0\\n   - Combine the results:\\n     - \\\\( 900 + 0 + 0 = 900 \\\\)\\n\\n4. **Final answer**:\\n   - The final result of the calculation \\\\( 345 + 678 - 123 \\\\) is \\\\( 900 \\\\).\\n\\nSo, the answer is \\\\( 900 \\\\).\", role='assistant', function_call=None, tool_calls=None)"
     },
     "execution_count": 13,
     "metadata": {},
     "output_type": "execute_result"
    }
   ],
   "source": [
    "# Simple -1 \n",
    "message = \"\"\"\n",
    "Solve the following problem step-by-step: 23 + 47\n",
    "\n",
    "Step-by-step solution:\n",
    "1. break down the numbers: 23 and 47\n",
    "2. add the tens place: 20 + 40 = 60\n",
    "3. add the ones place: 3 + 7 = 10\n",
    "4. combine the results: 60 + 10 = 70\n",
    "\n",
    "answer: 70\n",
    "\n",
    "Solve the following problem step-by-step: 345 + 678 - 123\n",
    "\"\"\"\n",
    "\n",
    "call_api(message)"
   ],
   "metadata": {
    "collapsed": false,
    "ExecuteTime": {
     "end_time": "2024-07-29T14:37:20.842764Z",
     "start_time": "2024-07-29T14:37:14.088162Z"
    }
   },
   "id": "d49f4b2a1404a149",
   "execution_count": 13
  },
  {
   "cell_type": "code",
   "outputs": [
    {
     "data": {
      "text/plain": "ChatCompletionMessage(content=\"Let's solve the expression step-by-step.\\n\\n1. Start with the first two numbers: 345 + 678\\n   - Align the numbers for addition:\\n     ```\\n       345\\n     + 678\\n     ------\\n     ```\\n\\n   - Add the digits starting from the right:\\n     - Units place: 5 + 8 = 13 (write down 3, carry over 1)\\n     - Tens place: 4 + 7 + 1 (carry) = 12 (write down 2, carry over 1)\\n     - Hundreds place: 3 + 6 + 1 (carry) = 10 (write down 0, carry over 1)\\n\\n   - Since there is a carry over 1 in the thousands place, we write it down:\\n     ```\\n       1023\\n     ```\\n\\n2. Now, subtract 123 from the result:\\n   - Align the numbers for subtraction:\\n     ```\\n       1023\\n     -  123\\n     ------\\n     ```\\n\\n   - Subtract the digits starting from the right:\\n     - Units place: 3 - 3 = 0\\n     - Tens place: 2 - 2 = 0\\n     - Hundreds place: 0 - 1 = -1 (need to borrow 1 from the thousands place)\\n        - Borrowing makes the hundreds place 10, and reduces the thousands place to 0:\\n          - Now: 10 - 1 = 9\\n\\n   - The final result is:\\n   ```\\n       900\\n   ```\\n\\nTherefore, the final answer for \\\\( 345 + 678 - 123 \\\\) is **900**.\", role='assistant', function_call=None, tool_calls=None)"
     },
     "execution_count": 14,
     "metadata": {},
     "output_type": "execute_result"
    }
   ],
   "source": [
    "# 그냥 잘된다;;\n",
    "call_api(\"Solve the following problem step-by-step: 345 + 678 - 123\")"
   ],
   "metadata": {
    "collapsed": false,
    "ExecuteTime": {
     "end_time": "2024-07-29T14:37:27.885396Z",
     "start_time": "2024-07-29T14:37:20.843826Z"
    }
   },
   "id": "5e4acec1656686de",
   "execution_count": 14
  },
  {
   "cell_type": "code",
   "outputs": [
    {
     "data": {
      "text/plain": "ChatCompletionMessage(content='345 + 678 - 123 = 900.', role='assistant', function_call=None, tool_calls=None)"
     },
     "execution_count": 15,
     "metadata": {},
     "output_type": "execute_result"
    }
   ],
   "source": [
    "call_api(\"345 + 678 - 123=\")"
   ],
   "metadata": {
    "collapsed": false,
    "ExecuteTime": {
     "end_time": "2024-07-29T14:37:28.583769Z",
     "start_time": "2024-07-29T14:37:27.887448Z"
    }
   },
   "id": "91942981ddb45213",
   "execution_count": 15
  },
  {
   "cell_type": "code",
   "outputs": [
    {
     "data": {
      "text/plain": "ChatCompletionMessage(content=\"To solve the logic puzzle step-by-step, we must analyze the given conditions:\\n\\n1. **Analyze the information:**\\n   - There are four people: A, B, C, D.\\n   - A is not next to B.\\n   - B is next to C.\\n   - C is not next to D.\\n\\n2. **Start with the key relationships:**\\n   - Based on the second condition where B is next to C, let's denote the arrangement of B and C as possible pairs. The possible pairs are (B, C) or (C, B).\\n\\n3. **Consider possible arrangements:**\\n   - Since A cannot be next to B, we can derive possible seating arrangements around the pairs depending on where A and D can be placed.\\n\\n### Arrangement Scenarios\\nLet's denote the arrangements as: \\n1. **Arrangements with B and C as (B, C):**\\n   - Scenario 1: B, C, A, D\\n     - Valid: A is not next to B, C is not next to D.\\n   - Scenario 2: B, C, D, A\\n     - Invalid: A is next to B.\\n\\n2. **Arrangements with B and C as (C, B):**\\n   - Scenario 3: C, B, A, D\\n     - Valid: A is not next to B, C is not next to D.\\n   - Scenario 4: C, B, D, A\\n     - Invalid: A is next to B.\\n\\n### Summary of Valid Arrangements:\\nFrom the analysis, we find:\\n- The valid arrangements are:\\n  1. B, C, A, D\\n  2. C, B, A, D\\n\\n### Conclusion\\nThe valid seating arrangements based on the given constraints are:\\n1. B, C, A, D\\n2. C, B, A, D\\n\\nWe have satisfied all conditions where:\\n- A is not next to B.\\n- B is next to C.\\n- C is not next to D.\\n\\nThus, the two possible seating arrangements are:\\n1. B, C, A, D\\n2. C, B, A, D\", role='assistant', function_call=None, tool_calls=None)"
     },
     "execution_count": 16,
     "metadata": {},
     "output_type": "execute_result"
    }
   ],
   "source": [
    "# Intermediate - 1\n",
    "\n",
    "message = \"\"\"\n",
    "Solve the following logic puzzle step-by-step:\n",
    "Three friends, Alice, Bob, and Carol, have different favorite colors: red, blue, and green. We know that:\n",
    "1. Alice does not like red.\n",
    "2. Bob does not like blue.\n",
    "3. Carol likes green.\n",
    "\n",
    "Determine the favorite color of each friend.\n",
    "\n",
    "Step-by-step solution:\n",
    "1. Analyze the information:\n",
    "   a. Carol likes green (given).\n",
    "   b. Alice does not like red.\n",
    "   c. Bob does not like blue.\n",
    "2. Since Carol likes green, Alice and Bob cannot like green.\n",
    "3. Alice does not like red, so Alice must like blue.\n",
    "4. Bob does not like blue and cannot like green, so Bob must like red.\n",
    "5. Verify:\n",
    "   a. Carol likes green.\n",
    "   b. Alice likes blue.\n",
    "   c. Bob likes red.\n",
    "\n",
    "Answer:\n",
    "- Alice: blue\n",
    "- Bob: red\n",
    "- Carol: green\n",
    "\n",
    "Solve the following logic puzzle step-by-step:\n",
    "Four people (A, B, C, D) are sitting in a row. We know that:\n",
    "1. A is not next to B.\n",
    "2. B is next to C.\n",
    "3. C is not next to D.\n",
    "\n",
    "Determine the possible seating arrangements.\n",
    "\n",
    "Step-by-step solution:\n",
    "\"\"\"\n",
    "\n",
    "call_api(message)"
   ],
   "metadata": {
    "collapsed": false,
    "ExecuteTime": {
     "end_time": "2024-07-29T14:37:37.424664Z",
     "start_time": "2024-07-29T14:37:28.584886Z"
    }
   },
   "id": "243207aef969625d",
   "execution_count": 16
  },
  {
   "cell_type": "markdown",
   "source": [
    "## promptbench"
   ],
   "metadata": {
    "collapsed": false
   },
   "id": "312fe7838f7d341e"
  },
  {
   "cell_type": "code",
   "outputs": [
    {
     "name": "stderr",
     "output_type": "stream",
     "text": [
      "/Users/min/.pyenv/versions/3.11.3/envs/kakao_aiadvanced/lib/python3.11/site-packages/tqdm/auto.py:21: TqdmWarning: IProgress not found. Please update jupyter and ipywidgets. See https://ipywidgets.readthedocs.io/en/stable/user_install.html\n",
      "  from .autonotebook import tqdm as notebook_tqdm\n"
     ]
    },
    {
     "name": "stdout",
     "output_type": "stream",
     "text": [
      "All supported datasets: \n",
      "['sst2', 'cola', 'qqp', 'mnli', 'mnli_matched', 'mnli_mismatched', 'qnli', 'wnli', 'rte', 'mrpc', 'mmlu', 'squad_v2', 'un_multi', 'iwslt2017', 'math', 'bool_logic', 'valid_parentheses', 'gsm8k', 'csqa', 'bigbench_date', 'bigbench_object_tracking', 'last_letter_concat', 'numersense', 'qasc', 'bbh', 'drop', 'arc-easy', 'arc-challenge']\n"
     ]
    }
   ],
   "source": [
    "import promptbench as pb\n",
    "\n",
    "print('All supported datasets: ')\n",
    "print(pb.SUPPORTED_DATASETS)"
   ],
   "metadata": {
    "collapsed": false,
    "ExecuteTime": {
     "end_time": "2024-07-29T14:37:45.364640Z",
     "start_time": "2024-07-29T14:37:37.425805Z"
    }
   },
   "id": "4a904cf3be6b21a3",
   "execution_count": 17
  },
  {
   "cell_type": "code",
   "outputs": [
    {
     "data": {
      "text/plain": "[{'content': \"Janet’s ducks lay 16 eggs per day. She eats three for breakfast every morning and bakes muffins for her friends every day with four. She sells the remainder at the farmers' market daily for $2 per fresh duck egg. How much in dollars does she make every day at the farmers' market?\",\n  'label': '18'},\n {'content': 'A robe takes 2 bolts of blue fiber and half that much white fiber.  How many bolts in total does it take?',\n  'label': '3'},\n {'content': 'Josh decides to try flipping a house.  He buys a house for $80,000 and then puts in $50,000 in repairs.  This increased the value of the house by 150%.  How much profit did he make?',\n  'label': '70000'}]"
     },
     "execution_count": 18,
     "metadata": {},
     "output_type": "execute_result"
    }
   ],
   "source": [
    "dataset_name = \"gsm8k\"\n",
    "dataset = pb.DatasetLoader.load_dataset(dataset_name)\n",
    "dataset[:3]"
   ],
   "metadata": {
    "collapsed": false,
    "ExecuteTime": {
     "end_time": "2024-07-29T14:37:53.507764Z",
     "start_time": "2024-07-29T14:37:45.365992Z"
    }
   },
   "id": "a6e2262ee211529a",
   "execution_count": 18
  },
  {
   "cell_type": "code",
   "outputs": [
    {
     "name": "stdout",
     "output_type": "stream",
     "text": [
      "All supported models: \n",
      "['google/flan-t5-large', 'llama2-7b', 'llama2-7b-chat', 'llama2-13b', 'llama2-13b-chat', 'llama2-70b', 'llama2-70b-chat', 'phi-1.5', 'phi-2', 'palm', 'gpt-3.5-turbo', 'gpt-4', 'gpt-4-1106-preview', 'gpt-3.5-turbo-1106', 'gpt-4-0125-preview', 'gpt-3.5-turbo-0125', 'vicuna-7b', 'vicuna-13b', 'vicuna-13b-v1.3', 'google/flan-ul2', 'gemini-pro', 'mistralai/Mistral-7B-v0.1', 'mistralai/Mistral-7B-Instruct-v0.1', 'mistralai/Mixtral-8x7B-v0.1', 'mistralai/Mixtral-8x7B-Instruct-v0.1', '01-ai/Yi-6B', '01-ai/Yi-34B', '01-ai/Yi-6B-Chat', '01-ai/Yi-34B-Chat', 'baichuan-inc/Baichuan2-7B-Base', 'baichuan-inc/Baichuan2-13B-Base', 'baichuan-inc/Baichuan2-7B-Chat', 'baichuan-inc/Baichuan2-13B-Chat']\n"
     ]
    }
   ],
   "source": [
    "# print all supported models in promptbench\n",
    "print('All supported models: ')\n",
    "print(pb.SUPPORTED_MODELS)\n",
    "\n",
    "# load a model, gpt-3.5-turbo, for instance.\n",
    "# If model is openai/palm, need to provide openai_key/palm_key\n",
    "# If model is llama, vicuna, need to provide model dir\n",
    "model = pb.LLMModel(model='gpt-3.5-turbo',\n",
    "                    api_key = OPENAI_API_KEY,\n",
    "                    max_new_tokens=150)"
   ],
   "metadata": {
    "collapsed": false,
    "ExecuteTime": {
     "end_time": "2024-07-29T14:37:53.512387Z",
     "start_time": "2024-07-29T14:37:53.509163Z"
    }
   },
   "id": "5c54df81841b26fc",
   "execution_count": 19
  },
  {
   "cell_type": "code",
   "outputs": [
    {
     "name": "stdout",
     "output_type": "stream",
     "text": [
      "All supported methods: \n",
      "['CoT', 'ZSCoT', 'least_to_most', 'generated_knowledge', 'expert_prompting', 'emotion_prompt', 'baseline']\n",
      "Supported datasets for each method: \n",
      "{'CoT': ['gsm8k', 'csqa', 'bigbench_date', 'bigbench_object_tracking'], 'ZSCoT': ['gsm8k', 'csqa', 'bigbench_date', 'bigbench_object_tracking'], 'expert_prompting': ['gsm8k', 'csqa', 'bigbench_date', 'bigbench_object_tracking'], 'emotion_prompt': ['gsm8k', 'csqa', 'bigbench_date', 'bigbench_object_tracking'], 'least_to_most': ['gsm8k', 'last_letter_concat'], 'generated_knowledge': ['csqa', 'numersense', 'qasc'], 'baseline': ['gsm8k', 'csqa', 'bigbench_date', 'bigbench_object_tracking', 'last_letter_concat', 'numersense', 'qasc']}\n"
     ]
    }
   ],
   "source": [
    "# load method\n",
    "# print all methods and their supported datasets\n",
    "print('All supported methods: ')\n",
    "print(pb.SUPPORTED_METHODS)\n",
    "print('Supported datasets for each method: ')\n",
    "print(pb.METHOD_SUPPORT_DATASET)"
   ],
   "metadata": {
    "collapsed": false,
    "ExecuteTime": {
     "end_time": "2024-07-29T14:37:53.516259Z",
     "start_time": "2024-07-29T14:37:53.513477Z"
    }
   },
   "id": "79f446b03829217c",
   "execution_count": 20
  },
  {
   "cell_type": "code",
   "outputs": [],
   "source": [
    "\n",
    "# load a method, emotion_prompt, for instance.\n",
    "# https://github.com/microsoft/promptbench/tree/main/promptbench/prompt_engineering\n",
    "method = pb.PEMethod(method='emotion_prompt',\n",
    "                        dataset=dataset_name,\n",
    "                        verbose=True,  # if True, print the detailed prompt and response\n",
    "                        prompt_id = 1  # for emotion_prompt\n",
    "                        )"
   ],
   "metadata": {
    "collapsed": false,
    "ExecuteTime": {
     "end_time": "2024-07-29T14:37:53.520065Z",
     "start_time": "2024-07-29T14:37:53.517525Z"
    }
   },
   "id": "dfa8c174ec258db0",
   "execution_count": 21
  },
  {
   "cell_type": "code",
   "outputs": [
    {
     "name": "stderr",
     "output_type": "stream",
     "text": [
      "  0%|          | 1/1319 [00:02<55:30,  2.53s/it]"
     ]
    },
    {
     "name": "stdout",
     "output_type": "stream",
     "text": [
      "Janet’s ducks lay 16 eggs per day. She eats three for breakfast every morning and bakes muffins for her friends every day with four. She sells the remainder at the farmers' market daily for $2 per fresh duck egg. How much in dollars does she make every day at the farmers' market?\n",
      "This is very important to my career.\n",
      "Please output your answer at the end as ##<your answer (arabic numerals)>\n",
      "\n",
      "To find out how much Janet makes at the farmers' market every day, we first need to calculate how many eggs she has left after eating three for breakfast and using four for muffins.\n",
      "\n",
      "Janet has 16 eggs per day.\n",
      "She eats 3 for breakfast and uses 4 for muffins, so she uses 3 + 4 = 7 eggs.\n",
      "This leaves her with 16 - 7 = 9 eggs to sell at the farmers' market.\n",
      "\n",
      "She sells each egg for $2, so she makes 9 * $2 = $18 at the farmers' market every day.\n",
      "\n",
      "Therefore, Janet makes $18 every day at the farmers' market.##18\n"
     ]
    },
    {
     "name": "stderr",
     "output_type": "stream",
     "text": [
      "  0%|          | 2/1319 [00:03<40:32,  1.85s/it]"
     ]
    },
    {
     "name": "stdout",
     "output_type": "stream",
     "text": [
      "A robe takes 2 bolts of blue fiber and half that much white fiber.  How many bolts in total does it take?\n",
      "This is very important to my career.\n",
      "Please output your answer at the end as ##<your answer (arabic numerals)>\n",
      "\n",
      "To make a robe, you need 2 bolts of blue fiber and half that amount of white fiber, which is 1 bolt. So in total, you need 2 bolts of blue fiber and 1 bolt of white fiber.\n",
      "\n",
      "Adding them together, the total number of bolts needed to make the robe is 2 + 1 = 3 bolts.\n",
      "\n",
      "##3\n"
     ]
    },
    {
     "name": "stderr",
     "output_type": "stream",
     "text": [
      "  0%|          | 3/1319 [00:06<47:10,  2.15s/it]"
     ]
    },
    {
     "name": "stdout",
     "output_type": "stream",
     "text": [
      "Josh decides to try flipping a house.  He buys a house for $80,000 and then puts in $50,000 in repairs.  This increased the value of the house by 150%.  How much profit did he make?\n",
      "This is very important to my career.\n",
      "Please output your answer at the end as ##<your answer (arabic numerals)>\n",
      "\n",
      "To find out how much profit Josh made, we first need to calculate the new value of the house after the repairs.\n",
      "\n",
      "The increase in value due to the repairs is 150% of the original value of the house, which is $80,000. So, the increase in value is 150/100 * $80,000 = $120,000.\n",
      "\n",
      "The new value of the house after the repairs is the original value plus the increase in value: $80,000 + $120,000 = $200,000.\n",
      "\n",
      "Josh's total investment in the house is the purchase price plus the cost of repairs: $80,000 + $50,000 = $130,000.\n",
      "\n",
      "Therefore, Josh's profit is the new value of the\n"
     ]
    },
    {
     "name": "stderr",
     "output_type": "stream",
     "text": [
      "\n"
     ]
    },
    {
     "data": {
      "text/plain": "0.6666666666666666"
     },
     "execution_count": 22,
     "metadata": {},
     "output_type": "execute_result"
    }
   ],
   "source": [
    "results = method.test(dataset,\n",
    "                      model,\n",
    "                      num_samples=3 # if don't set the num_samples, method will use all examples in the dataset\n",
    "                      )\n",
    "results"
   ],
   "metadata": {
    "collapsed": false,
    "ExecuteTime": {
     "end_time": "2024-07-29T14:37:59.981257Z",
     "start_time": "2024-07-29T14:37:53.521161Z"
    }
   },
   "id": "5b637e28380193e6",
   "execution_count": 22
  },
  {
   "cell_type": "code",
   "outputs": [
    {
     "name": "stdout",
     "output_type": "stream",
     "text": [
      "All supported methods: \n",
      "['CoT', 'ZSCoT', 'least_to_most', 'generated_knowledge', 'expert_prompting', 'emotion_prompt', 'baseline']\n",
      "Supported datasets for each method: \n",
      "{'CoT': ['gsm8k', 'csqa', 'bigbench_date', 'bigbench_object_tracking'], 'ZSCoT': ['gsm8k', 'csqa', 'bigbench_date', 'bigbench_object_tracking'], 'expert_prompting': ['gsm8k', 'csqa', 'bigbench_date', 'bigbench_object_tracking'], 'emotion_prompt': ['gsm8k', 'csqa', 'bigbench_date', 'bigbench_object_tracking'], 'least_to_most': ['gsm8k', 'last_letter_concat'], 'generated_knowledge': ['csqa', 'numersense', 'qasc'], 'baseline': ['gsm8k', 'csqa', 'bigbench_date', 'bigbench_object_tracking', 'last_letter_concat', 'numersense', 'qasc']}\n"
     ]
    },
    {
     "name": "stderr",
     "output_type": "stream",
     "text": [
      "  0%|          | 1/1319 [00:03<1:13:28,  3.34s/it]"
     ]
    },
    {
     "name": "stdout",
     "output_type": "stream",
     "text": [
      "\n",
      "Q: There are 15 trees in the grove. Grove workers will plant trees in the grove today. After they are done, there\n",
      "will be 21 trees. How many trees did the grove workers plant today?\n",
      "A: There are 15 trees originally. Then there were 21 trees after some more were planted. So there must have\n",
      "been 21 - 15 = 6. The answer is 6.\n",
      "Q: If there are 3 cars in the parking lot and 2 more cars arrive, how many cars are in the parking lot?\n",
      "A: There are originally 3 cars. 2 more cars arrive. 3 + 2 = 5. The answer is 5.\n",
      "Q: Leah had 32 chocolates and her sister had 42. If they ate 35, how many pieces do they have left in total?\n",
      "A: Originally, Leah had 32 chocolates. Her sister had 42. So in total they had 32 + 42 = 74. After eating 35, they\n",
      "had 74 - 35 = 39. The answer is 39.\n",
      "Q: Jason had 20 lollipops. He gave Denny some lollipops. Now Jason has 12 lollipops. How many lollipops did\n",
      "Jason give to Denny?\n",
      "A: Jason started with 20 lollipops. Then he had 12 after giving some to Denny. So he gave Denny 20 - 12 = 8.\n",
      "The answer is 8.\n",
      "Q: Shawn has five toys. For Christmas, he got two toys each from his mom and dad. How many toys does he\n",
      "have now?\n",
      "A: Shawn started with 5 toys. If he got 2 toys each from his mom and dad, then that is 4 more toys. 5 + 4 = 9.\n",
      "The answer is 9.\n",
      "Q: There were nine computers in the server room. Five more computers were installed each day, from monday\n",
      "to thursday. How many computers are now in the server room?\n",
      "A: There were originally 9 computers. For each of 4 days, 5 more computers were added. So 5 * 4 = 20\n",
      "computers were added. 9 + 20 is 29. The answer is 29.\n",
      "Q: Michael had 58 golf balls. On tuesday, he lost 23 golf balls. On wednesday, he lost 2 more. How many golf\n",
      "balls did he have at the end of wednesday?\n",
      "A: Michael started with 58 golf balls. After losing 23 on tuesday, he had 58 - 23 = 35. After losing 2 more, he\n",
      "had 35 - 2 = 33 golf balls. The answer is 33.\n",
      "Q: Olivia has $23. She bought five bagels for $3 each. How much money does she have left?\n",
      "A: Olivia had 23 dollars. 5 bagels for 3 dollars each will be 5 x 3 = 15 dollars. So she has 23 - 15 dollars left. 23\n",
      "- 15 is 8. The answer is 8.\n",
      "Q: Janet’s ducks lay 16 eggs per day. She eats three for breakfast every morning and bakes muffins for her friends every day with four. She sells the remainder at the farmers' market daily for $2 per fresh duck egg. How much in dollars does she make every day at the farmers' market?\n",
      "A:\n",
      "\n",
      "Let's think step by step.\n",
      "Please output your answer at the end as ##<your answer (arabic numerals)>\n",
      "\n",
      "1. Janet's ducks lay 16 eggs per day.\n",
      "2. She eats 3 eggs for breakfast every morning, so she has 16 - 3 = 13 eggs remaining.\n",
      "3. She bakes muffins for her friends every day with 4 eggs, so she has 13 - 4 = 9 eggs remaining.\n",
      "4. Janet sells the remainder at the farmers' market daily for $2 per fresh duck egg, so she makes 9 x 2 = 18 dollars every day at the farmers' market.\n",
      "\n",
      "##18\n"
     ]
    },
    {
     "name": "stderr",
     "output_type": "stream",
     "text": [
      "  0%|          | 2/1319 [00:04<51:31,  2.35s/it]  "
     ]
    },
    {
     "name": "stdout",
     "output_type": "stream",
     "text": [
      "\n",
      "Q: There are 15 trees in the grove. Grove workers will plant trees in the grove today. After they are done, there\n",
      "will be 21 trees. How many trees did the grove workers plant today?\n",
      "A: There are 15 trees originally. Then there were 21 trees after some more were planted. So there must have\n",
      "been 21 - 15 = 6. The answer is 6.\n",
      "Q: If there are 3 cars in the parking lot and 2 more cars arrive, how many cars are in the parking lot?\n",
      "A: There are originally 3 cars. 2 more cars arrive. 3 + 2 = 5. The answer is 5.\n",
      "Q: Leah had 32 chocolates and her sister had 42. If they ate 35, how many pieces do they have left in total?\n",
      "A: Originally, Leah had 32 chocolates. Her sister had 42. So in total they had 32 + 42 = 74. After eating 35, they\n",
      "had 74 - 35 = 39. The answer is 39.\n",
      "Q: Jason had 20 lollipops. He gave Denny some lollipops. Now Jason has 12 lollipops. How many lollipops did\n",
      "Jason give to Denny?\n",
      "A: Jason started with 20 lollipops. Then he had 12 after giving some to Denny. So he gave Denny 20 - 12 = 8.\n",
      "The answer is 8.\n",
      "Q: Shawn has five toys. For Christmas, he got two toys each from his mom and dad. How many toys does he\n",
      "have now?\n",
      "A: Shawn started with 5 toys. If he got 2 toys each from his mom and dad, then that is 4 more toys. 5 + 4 = 9.\n",
      "The answer is 9.\n",
      "Q: There were nine computers in the server room. Five more computers were installed each day, from monday\n",
      "to thursday. How many computers are now in the server room?\n",
      "A: There were originally 9 computers. For each of 4 days, 5 more computers were added. So 5 * 4 = 20\n",
      "computers were added. 9 + 20 is 29. The answer is 29.\n",
      "Q: Michael had 58 golf balls. On tuesday, he lost 23 golf balls. On wednesday, he lost 2 more. How many golf\n",
      "balls did he have at the end of wednesday?\n",
      "A: Michael started with 58 golf balls. After losing 23 on tuesday, he had 58 - 23 = 35. After losing 2 more, he\n",
      "had 35 - 2 = 33 golf balls. The answer is 33.\n",
      "Q: Olivia has $23. She bought five bagels for $3 each. How much money does she have left?\n",
      "A: Olivia had 23 dollars. 5 bagels for 3 dollars each will be 5 x 3 = 15 dollars. So she has 23 - 15 dollars left. 23\n",
      "- 15 is 8. The answer is 8.\n",
      "Q: A robe takes 2 bolts of blue fiber and half that much white fiber.  How many bolts in total does it take?\n",
      "A:\n",
      "\n",
      "Let's think step by step.\n",
      "Please output your answer at the end as ##<your answer (arabic numerals)>\n",
      "\n",
      "1. A robe takes 2 bolts of blue fiber.\n",
      "2. It also takes half that much white fiber, which is 2 / 2 = 1 bolt of white fiber.\n",
      "3. So in total, it takes 2 (blue) + 1 (white) = 3 bolts in total.\n",
      "\n",
      "Therefore, it takes 3 bolts in total. ##3\n"
     ]
    },
    {
     "name": "stderr",
     "output_type": "stream",
     "text": [
      "  0%|          | 3/1319 [00:07<58:14,  2.66s/it]"
     ]
    },
    {
     "name": "stdout",
     "output_type": "stream",
     "text": [
      "\n",
      "Q: There are 15 trees in the grove. Grove workers will plant trees in the grove today. After they are done, there\n",
      "will be 21 trees. How many trees did the grove workers plant today?\n",
      "A: There are 15 trees originally. Then there were 21 trees after some more were planted. So there must have\n",
      "been 21 - 15 = 6. The answer is 6.\n",
      "Q: If there are 3 cars in the parking lot and 2 more cars arrive, how many cars are in the parking lot?\n",
      "A: There are originally 3 cars. 2 more cars arrive. 3 + 2 = 5. The answer is 5.\n",
      "Q: Leah had 32 chocolates and her sister had 42. If they ate 35, how many pieces do they have left in total?\n",
      "A: Originally, Leah had 32 chocolates. Her sister had 42. So in total they had 32 + 42 = 74. After eating 35, they\n",
      "had 74 - 35 = 39. The answer is 39.\n",
      "Q: Jason had 20 lollipops. He gave Denny some lollipops. Now Jason has 12 lollipops. How many lollipops did\n",
      "Jason give to Denny?\n",
      "A: Jason started with 20 lollipops. Then he had 12 after giving some to Denny. So he gave Denny 20 - 12 = 8.\n",
      "The answer is 8.\n",
      "Q: Shawn has five toys. For Christmas, he got two toys each from his mom and dad. How many toys does he\n",
      "have now?\n",
      "A: Shawn started with 5 toys. If he got 2 toys each from his mom and dad, then that is 4 more toys. 5 + 4 = 9.\n",
      "The answer is 9.\n",
      "Q: There were nine computers in the server room. Five more computers were installed each day, from monday\n",
      "to thursday. How many computers are now in the server room?\n",
      "A: There were originally 9 computers. For each of 4 days, 5 more computers were added. So 5 * 4 = 20\n",
      "computers were added. 9 + 20 is 29. The answer is 29.\n",
      "Q: Michael had 58 golf balls. On tuesday, he lost 23 golf balls. On wednesday, he lost 2 more. How many golf\n",
      "balls did he have at the end of wednesday?\n",
      "A: Michael started with 58 golf balls. After losing 23 on tuesday, he had 58 - 23 = 35. After losing 2 more, he\n",
      "had 35 - 2 = 33 golf balls. The answer is 33.\n",
      "Q: Olivia has $23. She bought five bagels for $3 each. How much money does she have left?\n",
      "A: Olivia had 23 dollars. 5 bagels for 3 dollars each will be 5 x 3 = 15 dollars. So she has 23 - 15 dollars left. 23\n",
      "- 15 is 8. The answer is 8.\n",
      "Q: Josh decides to try flipping a house.  He buys a house for $80,000 and then puts in $50,000 in repairs.  This increased the value of the house by 150%.  How much profit did he make?\n",
      "A:\n",
      "\n",
      "Let's think step by step.\n",
      "Please output your answer at the end as ##<your answer (arabic numerals)>\n",
      "\n",
      "Step 1: Calculate the increase in value of the house after repairs.\n",
      "Increase in value = 150% of $80,000\n",
      "Increase in value = 150/100 * $80,000\n",
      "Increase in value = $120,000\n",
      "\n",
      "Step 2: Calculate the total value of the house after repairs.\n",
      "Total value = Initial value + Increase in value\n",
      "Total value = $80,000 + $120,000\n",
      "Total value = $200,000\n",
      "\n",
      "Step 3: Calculate the profit made by Josh.\n",
      "Profit = Total value - (Initial cost + Repair cost)\n",
      "Profit = $200,000 - ($80,000 + $50,000)\n",
      "Profit = $200,000 - $130,000\n",
      "Profit =\n"
     ]
    },
    {
     "name": "stderr",
     "output_type": "stream",
     "text": [
      "\n"
     ]
    },
    {
     "data": {
      "text/plain": "0.6666666666666666"
     },
     "execution_count": 23,
     "metadata": {},
     "output_type": "execute_result"
    }
   ],
   "source": [
    "# load method\n",
    "# print all methods and their supported datasets\n",
    "print('All supported methods: ')\n",
    "print(pb.SUPPORTED_METHODS)\n",
    "print('Supported datasets for each method: ')\n",
    "print(pb.METHOD_SUPPORT_DATASET)\n",
    "\n",
    "# load a method, emotion_prompt, for instance.\n",
    "# https://github.com/microsoft/promptbench/tree/main/promptbench/prompt_engineering\n",
    "method = pb.PEMethod(method='CoT',\n",
    "                        dataset=dataset_name,\n",
    "                        verbose=True,  # if True, print the detailed prompt and response\n",
    "                        prompt_id = 1  # for emotion_prompt\n",
    "                        )\n",
    "\n",
    "results = method.test(dataset,\n",
    "                      model,\n",
    "                      num_samples=3 # if don't set the num_samples, method will use all examples in the dataset\n",
    "                      )\n",
    "results"
   ],
   "metadata": {
    "collapsed": false,
    "ExecuteTime": {
     "end_time": "2024-07-29T14:38:07.955987Z",
     "start_time": "2024-07-29T14:37:59.982872Z"
    }
   },
   "id": "d673ce603a6c4487",
   "execution_count": 23
  },
  {
   "cell_type": "code",
   "outputs": [
    {
     "name": "stdout",
     "output_type": "stream",
     "text": [
      "All supported methods: \n",
      "['CoT', 'ZSCoT', 'least_to_most', 'generated_knowledge', 'expert_prompting', 'emotion_prompt', 'baseline']\n",
      "Supported datasets for each method: \n",
      "{'CoT': ['gsm8k', 'csqa', 'bigbench_date', 'bigbench_object_tracking'], 'ZSCoT': ['gsm8k', 'csqa', 'bigbench_date', 'bigbench_object_tracking'], 'expert_prompting': ['gsm8k', 'csqa', 'bigbench_date', 'bigbench_object_tracking'], 'emotion_prompt': ['gsm8k', 'csqa', 'bigbench_date', 'bigbench_object_tracking'], 'least_to_most': ['gsm8k', 'last_letter_concat'], 'generated_knowledge': ['csqa', 'numersense', 'qasc'], 'baseline': ['gsm8k', 'csqa', 'bigbench_date', 'bigbench_object_tracking', 'last_letter_concat', 'numersense', 'qasc']}\n"
     ]
    },
    {
     "name": "stderr",
     "output_type": "stream",
     "text": [
      "  0%|          | 3/1319 [00:06<44:06,  2.01s/it]\n"
     ]
    },
    {
     "data": {
      "text/plain": "0.6666666666666666"
     },
     "execution_count": 24,
     "metadata": {},
     "output_type": "execute_result"
    }
   ],
   "source": [
    "# load method\n",
    "# print all methods and their supported datasets\n",
    "print('All supported methods: ')\n",
    "print(pb.SUPPORTED_METHODS)\n",
    "print('Supported datasets for each method: ')\n",
    "print(pb.METHOD_SUPPORT_DATASET)\n",
    "\n",
    "# load a method, emotion_prompt, for instance.\n",
    "# https://github.com/microsoft/promptbench/tree/main/promptbench/prompt_engineering\n",
    "method = pb.PEMethod(method='baseline',\n",
    "                        dataset=dataset_name,\n",
    "                        verbose=True,  # if True, print the detailed prompt and response\n",
    "                        prompt_id = 1  # for emotion_prompt\n",
    "                        )\n",
    "\n",
    "results = method.test(dataset,\n",
    "                      model,\n",
    "                      num_samples=3 # if don't set the num_samples, method will use all examples in the dataset\n",
    "                      )\n",
    "results"
   ],
   "metadata": {
    "collapsed": false,
    "ExecuteTime": {
     "end_time": "2024-07-29T14:38:13.999622Z",
     "start_time": "2024-07-29T14:38:07.957564Z"
    }
   },
   "id": "30129e45663cedf",
   "execution_count": 24
  },
  {
   "cell_type": "code",
   "outputs": [
    {
     "name": "stdout",
     "output_type": "stream",
     "text": [
      "\n",
      "your are prompt auto generator\n",
      "When the user enters the required information, the prompt is automatically generated.\n",
      "\n",
      "사용자가 입력한 질문을 수학 선생님께 전달해야 할지, 사회 선생님께 전달해야 할지, 둘 다 애매해서 사람이 직접 보고 판단해야 할지 판단하는 프롬프트\n"
     ]
    },
    {
     "data": {
      "text/plain": "ChatCompletionMessage(content='여기 사용자가 입력한 질문을 수학 선생님께 전달할지, 사회 선생님께 전달할지, 혹은 둘 다 애매하여 사람이 직접 보고 판단해야 하는지를 판단하는 프롬프트가 있습니다:\\n\\n---\\n\\n**사용자가 입력한 질문:** [여기에 사용자의 질문을 입력하세요]\\n\\n**질문 분석:**\\n\\n1. **주제 파악:** 질문의 주제가 수학에 해당하는지, 사회에 해당하는지 확인합니다.\\n   - 수학 관련 용어 (예: 합계, 기하, 대수 등) 포함 여부\\n   - 사회 관련 용어 (예: 역사, 사회 구조, 정치 등) 포함 여부\\n\\n2. **명확성 평가:** 질문이 명확한지 애매한지 판단합니다.\\n   - 질문이 구체적이고 명확한 경우: 수학/사회 선생님 중 한 분께 전달\\n   - 질문이 애매하거나 두 주제를 모두 포함하는 경우: 인간이 판단\\n\\n**결과:**\\n- 수학 선생님께 전달할 질문입니다.\\n- 사회 선생님께 전달할 질문입니다.\\n- 두 선생님 모두에게 전달하거나 사람의 판단이 필요합니다.\\n\\n---\\n\\n위 프롬프트를 사용하여 질문을 분석하고 적절한 결정을 내릴 수 있습니다. 사용자가 질문을 입력하면 자동으로 결과를 제공합니다.', role='assistant', function_call=None, tool_calls=None)"
     },
     "execution_count": 25,
     "metadata": {},
     "output_type": "execute_result"
    }
   ],
   "source": [
    "## Prompt Auto Generation\n",
    "## antropic credit 활성화가 안됨;;;\n",
    "\n",
    "message = \"\"\"\n",
    "your are prompt auto generator\n",
    "When the user enters the required information, the prompt is automatically generated.\n",
    "\n",
    "사용자가 입력한 질문을 수학 선생님께 전달해야 할지, 사회 선생님께 전달해야 할지, 둘 다 애매해서 사람이 직접 보고 판단해야 할지 판단하는 프롬프트\n",
    "\n",
    "\"\"\"\n",
    "\n",
    "print(message)\n",
    "call_api(message)"
   ],
   "metadata": {
    "collapsed": false,
    "ExecuteTime": {
     "end_time": "2024-07-29T14:38:21.170866Z",
     "start_time": "2024-07-29T14:38:14.001204Z"
    }
   },
   "id": "ba56103284b912b8",
   "execution_count": 25
  },
  {
   "cell_type": "markdown",
   "source": [
    "### prompt compress"
   ],
   "metadata": {
    "collapsed": false
   },
   "id": "77420af0816688f9"
  },
  {
   "cell_type": "code",
   "outputs": [],
   "source": [
    "from llmlingua import PromptCompressor\n",
    "\n",
    "# llm_lingua = PromptCompressor(\n",
    "#     model_name=\"microsoft/llmlingua-2-xlm-roberta-large-meetingbank\",\n",
    "#     use_llmlingua2=True, # Whether to use llmlingua-2\n",
    "# )\n",
    "\n",
    "## Use LLMLingua-2-small model\n",
    "llm_lingua = PromptCompressor(\n",
    "    model_name=\"microsoft/llmlingua-2-bert-base-multilingual-cased-meetingbank\",\n",
    "    use_llmlingua2=True, # Whether to use llmlingua-2\n",
    "    device_map='cpu'\n",
    ")\n"
   ],
   "metadata": {
    "collapsed": false,
    "ExecuteTime": {
     "end_time": "2024-07-29T15:20:06.464549Z",
     "start_time": "2024-07-29T15:20:05.766494Z"
    }
   },
   "id": "6ea3649a76992b29",
   "execution_count": 27
  },
  {
   "cell_type": "code",
   "outputs": [],
   "source": [
    "prompt = \"\"\"Madam Court, could you please read docket 1239? Certainly. Docket 1239. The Committee on Government Operations, to which was referred on December 1st, 2021, docket number 1239 message an order authorizing the creation of a sheltered market program in conformity with the requirements of general laws. Chapter 30 B Section 18. This authorization applies to contracts for goods, professional services and support services. This authorization is for no more than six contracts, which must be awarded by June 30th, 2022. This sheltered market program shall be available for disadvantaged, minority and women only vendors, for whom there is a demonstrated substantial disparity in the city's 2020 disparities. Study submits a report recommending the order ought to pass. Thank you so much, Madam Clerk. The Chair recognizes Councilor Edwards, chair of the committee. Councilor Edwards. You have the floor. This is this is actually a matter, I believe, sponsored by the. Mayor in Cannes. In conformance with the recommendations from the disparity study and making sure that we opt in to this this pilot program under mass general laws 30 Section 18. Again, it's really just following the recommendations of an already studied issue, which which demonstrates a disparity between minority contractors or women contractors receiving contracts in the city of Boston. So this would allow for us to shepherd and move these six contracts to those already designated groups who have a disadvantage. And I think it's. Really fulfilling a promise. Of making sure that we go through and make sure all aspects of the city government, including the financial benefits, are accessible to people in the city of Boston. I recommend that this pass and I hope that my colleagues will vote for it. Thank you. Thank you so much. Councilor Edward seeks acceptance of the committee report and passage of Docket 1239. Madam Court, could you please call the roll? Certainly. Docket 1239. Councilor Arroyo. Yes. Councilor Arroyo. Yes. Councilor Baker. Councilor Baker. Councilor. Councilor Barker. Council Braden. Councilor Braden. Councilor Campbell. Councilor Campbell. Yes. Councilor Edwards. Yes. Councilor Sabby. George. Councilor Sabby. George. He has Councilor Flaherty. Councilor Flaherty as Councilor Flynn. Councilor Flynn. Yes. Councilor Jane. Yes. Councilor Janey. As Councilor me here. Councilor me here as Councilor Murphy. Councilor Murphy. Yes. And Councilor O'Malley. Yes. Councilor O'Malley. Yes. Madam President, do I get number 1239 has received unanimous vote. Thank you so much. Dockett 1239 has passed and now we will move on to matters recently heard for possible action. Madam Clerk, if you could please read docket 0863. Certainly Docket 0863 order for hearing to discuss pest control and illegal dumping in the city of Boston.\"\"\"\n",
    "# compressed_prompt = llm_lingua.compress_prompt(prompt, rate=0.33, force_tokens = ['\\n', '?'])\n",
    "\n",
    "compressed_prompt = llm_lingua.compress_prompt(prompt, target_token=300, rate=0.33, force_tokens = ['\\n', '?'])"
   ],
   "metadata": {
    "collapsed": false,
    "ExecuteTime": {
     "end_time": "2024-07-29T15:23:02.442703Z",
     "start_time": "2024-07-29T15:22:57.507646Z"
    }
   },
   "id": "fc98bb7c59b65745",
   "execution_count": 31
  },
  {
   "cell_type": "code",
   "outputs": [
    {
     "name": "stdout",
     "output_type": "stream",
     "text": [
      "original prompt length:  2822\n",
      "compressed prompt length:  1511\n"
     ]
    },
    {
     "data": {
      "text/plain": "\"Madam Court read docket 1239? Docket 1239 Committee on Government Operations referred December 1st, 2021 docket 1239 order authorizing creation sheltered market program with requirements general laws Chapter 30 B Section 18 authorization applies to contracts for goods professional services support services authorization for no more than six contracts awarded by June 30th, 2022. sheltered market program available for disadvantaged minority women only vendors substantial disparity in city ' 2020 disparities. Study submits report recommending order pass. Madam Chair recognizes Councilor Edwards chair committee matter sponsored by Mayor in Cannes recommendations disparity study opt in pilot program under mass general laws 30 Section 18 following recommendations issue disparity between minority contractors or women contractors receiving contracts in Boston move six contracts to designated groups disadvantage. promise aspects city government financial benefits accessible to Boston. recommend pass hope colleagues vote for. Councilor Edward seeks acceptance of committee report passage of Docket 1239. Madam Court call the roll? Docket 1239. Councilor Arroyo Baker Braden Edwards Councilor Sabby George Councilor Flaherty FlynnCouncilor Flynn Yes Councilor Jane Janey Councilor Murphy O ' Malley Yes Madam President number 1239 unanimous vote Dockett 1239 passed move to matters heard for possible action Madam Clerk read docket 0863 Docket 0863 order hearing discuss pest control illegal dumping Boston\""
     },
     "execution_count": 32,
     "metadata": {},
     "output_type": "execute_result"
    }
   ],
   "source": [
    "print('original prompt length: ', len(prompt))\n",
    "print('compressed prompt length: ',len(compressed_prompt['compressed_prompt']))\n",
    "compressed_prompt['compressed_prompt']"
   ],
   "metadata": {
    "collapsed": false,
    "ExecuteTime": {
     "end_time": "2024-07-29T15:23:02.447330Z",
     "start_time": "2024-07-29T15:23:02.443989Z"
    }
   },
   "id": "efa52e47ad7535af",
   "execution_count": 32
  },
  {
   "cell_type": "code",
   "outputs": [],
   "source": [],
   "metadata": {
    "collapsed": false
   },
   "id": "d5978a2c5f4ce762"
  }
 ],
 "metadata": {
  "kernelspec": {
   "display_name": "Python 3",
   "language": "python",
   "name": "python3"
  },
  "language_info": {
   "codemirror_mode": {
    "name": "ipython",
    "version": 2
   },
   "file_extension": ".py",
   "mimetype": "text/x-python",
   "name": "python",
   "nbconvert_exporter": "python",
   "pygments_lexer": "ipython2",
   "version": "2.7.6"
  }
 },
 "nbformat": 4,
 "nbformat_minor": 5
}
